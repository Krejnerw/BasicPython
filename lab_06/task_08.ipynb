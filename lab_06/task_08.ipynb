{
 "cells": [
  {
   "cell_type": "markdown",
   "source": [
    "Napisz funkcję, która wczytuje z pliku zawierającego imiona i nazwiska osób zapisane po jednym w linii, np.\n",
    "\n",
    "Marek Markowski\n",
    "Paweł Budzikowski\n",
    "\n",
    "Funkcja generuje dla podanej listy adresy e-mail postaci: imie.nazwisko@domena (parametr funkcji) i zapisuje dane do nowego pliku dopisując przy wcześniejszym nazwisku wygenerowany adres, np.\n",
    "\n",
    "Marek Markowski, marek.markowski@student.uwm.edu.pl itd.\n",
    "\n",
    "W nazwach e-mail powinny być zastępowane ewentualne polskie znaki (ż,ź na z, ą na a itd.)."
   ],
   "metadata": {
    "collapsed": false
   },
   "id": "211a245afc641072"
  },
  {
   "cell_type": "code",
   "outputs": [],
   "source": [
    "import unidecode\n",
    "\n",
    "def create_emails(file_name:str,domain_name:str, new_file_name:str):\n",
    "    old_file = open(file_name,'r', errors='ignore', newline='',encoding='utf-8')\n",
    "    new_file = open(new_file_name,'a', errors='ignore', newline='',encoding='utf-8')\n",
    "    lines = old_file.readlines()\n",
    "    for name in lines:\n",
    "        new_line = unidecode.unidecode(name.replace(\"\\n\",\"\").replace(\"\\r\",\"\").replace(\" \",\".\").lower())+domain_name\n",
    "        new_file.write(new_line+\"\\n\")\n",
    "    old_file.close()\n",
    "    new_file.close()\n",
    "    \n",
    "create_emails(\"names.txt\",\"@students.uwm.edu.pl\", \"emails.txt\")"
   ],
   "metadata": {
    "collapsed": false,
    "ExecuteTime": {
     "end_time": "2024-04-08T15:22:55.994620Z",
     "start_time": "2024-04-08T15:22:55.989619400Z"
    }
   },
   "id": "263ceca6ef18c752",
   "execution_count": 4
  }
 ],
 "metadata": {
  "kernelspec": {
   "display_name": "Python 3",
   "language": "python",
   "name": "python3"
  },
  "language_info": {
   "codemirror_mode": {
    "name": "ipython",
    "version": 2
   },
   "file_extension": ".py",
   "mimetype": "text/x-python",
   "name": "python",
   "nbconvert_exporter": "python",
   "pygments_lexer": "ipython2",
   "version": "2.7.6"
  }
 },
 "nbformat": 4,
 "nbformat_minor": 5
}
