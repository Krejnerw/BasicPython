{
 "cells": [
  {
   "cell_type": "markdown",
   "source": [
    "Napisz funkcję, która będzie zwracała n największych lub najmniejszych wartości (odpowiednia wartość parametru) z listy numerycznej. Lista jest parametrem wejściowym funkcji. W funkcji sprawdzaj czy lista zawiera tylko liczby."
   ],
   "metadata": {
    "collapsed": false
   },
   "id": "f7d4c2a894b6df65"
  },
  {
   "cell_type": "code",
   "outputs": [
    {
     "name": "stdout",
     "output_type": "stream",
     "text": [
      "[1, 2]\n",
      "[6.7, 4]\n",
      "Invalid parameter 'numbers' are not a numbers\n"
     ]
    }
   ],
   "source": [
    "from typing import Union\n",
    "\n",
    "Num = Union[int, float]\n",
    "\n",
    "def get_n_max_or_min(numbers: list[Union], n:int, param:str) -> Union:\n",
    "    \"\"\"\n",
    "    'numbers' is a list of numbers\n",
    "    'param' get values 'max' or 'min'\n",
    "    'n' is the number of numbers to be returned\n",
    "    \"\"\"\n",
    "    for i in numbers:\n",
    "        if type(i) != float and type(i) != int:\n",
    "            return Exception(\"Invalid parameter 'numbers' are not a numbers\")\n",
    "    if param == 'max':\n",
    "        return sorted(numbers, reverse=True)[:n]\n",
    "    elif param == 'min':\n",
    "        return sorted(numbers)[:n]\n",
    "    else:\n",
    "        return Exception(\"Invalid parameter 'param'\")\n",
    "\n",
    "print(get_n_max_or_min([1,4,6.7, 2],n=2,param='min'))\n",
    "print(get_n_max_or_min([1,4,6.7, 2],n=2,param='max'))\n",
    "print(get_n_max_or_min([1,4,6.7, 2,\"a\"],n=2,param='max'))"
   ],
   "metadata": {
    "collapsed": false,
    "ExecuteTime": {
     "end_time": "2024-04-08T13:43:53.591942300Z",
     "start_time": "2024-04-08T13:43:53.578434200Z"
    }
   },
   "id": "761f07dde79b6234",
   "execution_count": 14
  }
 ],
 "metadata": {
  "kernelspec": {
   "display_name": "Python 3",
   "language": "python",
   "name": "python3"
  },
  "language_info": {
   "codemirror_mode": {
    "name": "ipython",
    "version": 2
   },
   "file_extension": ".py",
   "mimetype": "text/x-python",
   "name": "python",
   "nbconvert_exporter": "python",
   "pygments_lexer": "ipython2",
   "version": "2.7.6"
  }
 },
 "nbformat": 4,
 "nbformat_minor": 5
}
