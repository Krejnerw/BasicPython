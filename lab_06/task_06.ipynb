{
 "cells": [
  {
   "cell_type": "markdown",
   "source": [
    "Napisz funkcję, która wyświetla podany tekst odwracając kolejność liter w wyrazach. Np. „Ala ma kota” wyświetli „alA am atok”"
   ],
   "metadata": {
    "collapsed": false
   },
   "id": "87884becbd87deb7"
  },
  {
   "cell_type": "code",
   "outputs": [
    {
     "name": "stdout",
     "output_type": "stream",
     "text": [
      "alA am atok\n"
     ]
    }
   ],
   "source": [
    "def reverse_words(sentence:str) -> None:\n",
    "    splited_sentence = sentence.split(\" \")\n",
    "    result = [x[::-1] for x in splited_sentence ]\n",
    "    print(\" \".join(result))\n",
    "    \n",
    "reverse_words(\"Ala ma kota\")"
   ],
   "metadata": {
    "collapsed": false,
    "ExecuteTime": {
     "end_time": "2024-04-08T14:31:29.022569700Z",
     "start_time": "2024-04-08T14:31:29.014253800Z"
    }
   },
   "id": "f6343c5d332fe666",
   "execution_count": 2
  }
 ],
 "metadata": {
  "kernelspec": {
   "display_name": "Python 3",
   "language": "python",
   "name": "python3"
  },
  "language_info": {
   "codemirror_mode": {
    "name": "ipython",
    "version": 2
   },
   "file_extension": ".py",
   "mimetype": "text/x-python",
   "name": "python",
   "nbconvert_exporter": "python",
   "pygments_lexer": "ipython2",
   "version": "2.7.6"
  }
 },
 "nbformat": 4,
 "nbformat_minor": 5
}
