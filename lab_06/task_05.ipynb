{
 "cells": [
  {
   "cell_type": "markdown",
   "source": [
    "Napisz funkcję:\n",
    "\n",
    "parametr wejściowy to lista stringów z nazwiskami\n",
    "funkcja zapisuje do dwóch oddzielnych plików o nazwach ‘A-M_nazwiska.txt’ oraz ‘N-Ż_nazwiska.txt’ odpowiednie nazwiska z podanej listy\n",
    "Możesz wykorzystać moduł unidecode, który należy uprzednio zainstalować."
   ],
   "metadata": {
    "collapsed": false
   },
   "id": "a309a76528b4576a"
  },
  {
   "cell_type": "code",
   "execution_count": 20,
   "id": "initial_id",
   "metadata": {
    "collapsed": true,
    "ExecuteTime": {
     "end_time": "2024-04-08T15:07:41.529661500Z",
     "start_time": "2024-04-08T15:07:41.522767900Z"
    }
   },
   "outputs": [
    {
     "name": "stdout",
     "output_type": "stream",
     "text": [
      "None\n"
     ]
    }
   ],
   "source": [
    "import unidecode\n",
    "\n",
    "def split_surnames_by(surnames: list[str]) -> None:\n",
    "    surnames_A_M = open('A-M_nazwiska.txt','a', errors='ignore', newline='',encoding='utf-8')\n",
    "    surnames_N_Z = open('N-Ż_nazwiska.txt','a', errors='ignore', newline='',encoding='utf-8')\n",
    "    for surname in surnames:\n",
    "        uni = ord(unidecode.unidecode(surname[0].upper()))\n",
    "        if 65 <= uni <= 77:\n",
    "            surnames_A_M.write(surname+\"\\n\")\n",
    "        elif 78 <= uni <= 90:\n",
    "            surnames_N_Z.write(surname+\"\\n\")\n",
    "    surnames_A_M.close()\n",
    "    surnames_N_Z.close()\n",
    "    \n",
    "print(split_surnames_by([\"Ąski\",\"Łęcki\",\"Plos\",\"Małek\",\"Ński\",\"Norman\"]))"
   ]
  }
 ],
 "metadata": {
  "kernelspec": {
   "display_name": "Python 3",
   "language": "python",
   "name": "python3"
  },
  "language_info": {
   "codemirror_mode": {
    "name": "ipython",
    "version": 2
   },
   "file_extension": ".py",
   "mimetype": "text/x-python",
   "name": "python",
   "nbconvert_exporter": "python",
   "pygments_lexer": "ipython2",
   "version": "2.7.6"
  }
 },
 "nbformat": 4,
 "nbformat_minor": 5
}
