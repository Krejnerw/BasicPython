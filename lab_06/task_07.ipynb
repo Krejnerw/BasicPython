{
 "cells": [
  {
   "cell_type": "markdown",
   "source": [
    "Napisz funkcję, która:\n",
    "\n",
    "„rozdaje” karty z talii 52 kart (np. As pik, Dama karo, itd.) dla 4 graczy\n",
    "karty rozdawane są bez powtórzeń po 5 dla każdego gracza\n",
    "wyświetlana jest informacja jak wygląda „ręka” każdego z graczy, np. Alan [As pik, 9 karo, itd.]"
   ],
   "metadata": {
    "collapsed": false
   },
   "id": "ba3fcb9db78e8b43"
  },
  {
   "cell_type": "code",
   "outputs": [
    {
     "name": "stdout",
     "output_type": "stream",
     "text": [
      "Ala ['hearts 4', 'spades king', 'clubs 3', 'hearts 7', 'diamonds king']\n",
      "kot ['spades jack', 'clubs 6', 'clubs jack', 'clubs 5', 'diamonds 5']\n",
      "Tomek ['clubs 4', 'hearts 9', 'clubs 2', 'spades 8', 'clubs 9']\n",
      "Ola ['spades 6', 'diamonds 6', 'clubs 8', 'hearts 6', 'spades queen']\n"
     ]
    }
   ],
   "source": [
    "import random\n",
    "\n",
    "\n",
    "def xxx(usernames: list[str]) -> None:\n",
    "    colors = ['hearts', 'diamonds', 'spades', 'clubs']\n",
    "    special = ['ace', 'jack', 'queen', 'king']\n",
    "    numbers = [x for x in range(2, 11)]\n",
    "    numbers.extend(special)\n",
    "    result = ''\n",
    "    cards = [f'{x} {y}' for x in colors for y in numbers]\n",
    "\n",
    "    for user in usernames:\n",
    "        x =random.sample(cards, 5)\n",
    "        result += f'{user} {x}\\n'\n",
    "        for c in x:\n",
    "            cards.remove(c)\n",
    "    print(result)\n",
    "\n",
    "\n",
    "xxx([\"Ala\", \"kot\", \"Tomek\", \"Ola\"])"
   ],
   "metadata": {
    "collapsed": false,
    "ExecuteTime": {
     "end_time": "2024-04-08T15:22:41.456662700Z",
     "start_time": "2024-04-08T15:22:41.438664400Z"
    }
   },
   "id": "2040ac4d554a5f0b",
   "execution_count": 21
  }
 ],
 "metadata": {
  "kernelspec": {
   "display_name": "Python 3",
   "language": "python",
   "name": "python3"
  },
  "language_info": {
   "codemirror_mode": {
    "name": "ipython",
    "version": 2
   },
   "file_extension": ".py",
   "mimetype": "text/x-python",
   "name": "python",
   "nbconvert_exporter": "python",
   "pygments_lexer": "ipython2",
   "version": "2.7.6"
  }
 },
 "nbformat": 4,
 "nbformat_minor": 5
}
