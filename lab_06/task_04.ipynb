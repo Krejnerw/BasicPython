{
 "cells": [
  {
   "cell_type": "markdown",
   "source": [
    "Mając listę mieszana = [1, 2.3, ‘Zbyszek’, 5, ‘Marian’, 3.0] napisz funkcję, która zapisze wartości dla każdego typu do słownika gdzie pod kluczem równym nazwie typu zmiennej (int, float, str, itp.) wartością będzie lista elementów z listy 'mieszana' danego typu. Przykład: {'int': [1,5], 'str': ['Zbyszek','Marian']} itd."
   ],
   "metadata": {
    "collapsed": false
   },
   "id": "b84dd2e86541ae3f"
  },
  {
   "cell_type": "code",
   "outputs": [
    {
     "name": "stdout",
     "output_type": "stream",
     "text": [
      "{'int': [1, 5], 'float': [2.3, 3.0], 'str': ['Zbyszek', 'Marian']}\n"
     ]
    }
   ],
   "source": [
    "def get_types_dict(values:list)->dict[str,list]:\n",
    "    result ={}\n",
    "    for value in values:\n",
    "        try:\n",
    "            result[type(value).__name__].append(value)\n",
    "        except KeyError:\n",
    "            result[type(value).__name__] = [value]\n",
    "    return result\n",
    "    \n",
    "print(get_types_dict([1, 2.3, 'Zbyszek', 5, 'Marian', 3.0]))"
   ],
   "metadata": {
    "collapsed": false,
    "ExecuteTime": {
     "end_time": "2024-04-08T13:54:25.175287300Z",
     "start_time": "2024-04-08T13:54:25.160286800Z"
    }
   },
   "id": "42d531839cd87a50",
   "execution_count": 11
  }
 ],
 "metadata": {
  "kernelspec": {
   "display_name": "Python 3",
   "language": "python",
   "name": "python3"
  },
  "language_info": {
   "codemirror_mode": {
    "name": "ipython",
    "version": 2
   },
   "file_extension": ".py",
   "mimetype": "text/x-python",
   "name": "python",
   "nbconvert_exporter": "python",
   "pygments_lexer": "ipython2",
   "version": "2.7.6"
  }
 },
 "nbformat": 4,
 "nbformat_minor": 5
}
