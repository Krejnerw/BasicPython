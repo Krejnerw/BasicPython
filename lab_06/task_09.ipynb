{
 "cells": [
  {
   "cell_type": "markdown",
   "source": [
    "Przygotuj plik z kilkoma hasłami, które nadają się do gry 'Koło fortuny'. Wczytaj te hasła do listy i losuj jedno z nich. Na ekranie wyświetlaj hasło bez ujawniania poszczególnych liter, np.:___ _____ ___ __ _______ dla hasła 'Bez pracy nie ma kołaczy'. Nastepnie w pętli pozwalaj uzytkownikowi na podawanie jednej litery, która będzie podstawiana w miejscach gdzie występuje lub wyświetlaj komunikat, że takiej litery nie ma w haśle. Dodaj też funkcjonalność, która pozwala na odgadnięcie (wpisanie) całego hasła."
   ],
   "metadata": {
    "collapsed": false
   },
   "id": "6a2aef05c8b27cad"
  },
  {
   "cell_type": "code",
   "outputs": [
    {
     "name": "stdout",
     "output_type": "stream",
     "text": [
      "Congratulation the password was poranny wschód słońca\r\n"
     ]
    }
   ],
   "source": [
    "import random\n",
    "\n",
    "def get_message(additional_text, password):\n",
    "    return f\"{additional_text}Enter a letter, entire password for {password} or 'stop' to end the game\"\n",
    "def play_the_game():\n",
    "    file = open(\"game_passwords.txt\", 'r', errors='ignore', newline='',encoding='utf-8')\n",
    "    passwords = file.readlines()\n",
    "    file.close()\n",
    "    password = random.choice(passwords)  \n",
    "    hidden_password = \"\"\n",
    "    for i in password:\n",
    "        if i.isalnum():\n",
    "            hidden_password+=\"_\"\n",
    "        else:\n",
    "            hidden_password+=i\n",
    "    additional_text = ''\n",
    "    while hidden_password != password:\n",
    "        entry = input(get_message(additional_text,hidden_password))\n",
    "        if len(entry) >1:\n",
    "            if password == entry:\n",
    "                hidden_password = password\n",
    "                print(f\"Yes the password is '{entry}'\")\n",
    "            elif entry==\"stop\":\n",
    "                break\n",
    "            else:\n",
    "                additional_text = f\"No the password is not'{entry}', try again\"\n",
    "        else:\n",
    "            letter_found = False\n",
    "            tmp =\"\"\n",
    "            for ind, letter in enumerate(password):\n",
    "                if letter == entry:\n",
    "                    tmp +=letter\n",
    "                    letter_found = True\n",
    "                else:\n",
    "                    tmp += hidden_password[ind]\n",
    "            hidden_password = tmp\n",
    "            if letter_found:\n",
    "                additional_text = f\"Letter '{entry}' found. \"\n",
    "            else:\n",
    "                additional_text = f\"Letter '{entry}' not found. \"\n",
    "    print(f\"Congratulation the password was {password}\")\n",
    "    \n",
    "play_the_game()"
   ],
   "metadata": {
    "collapsed": false,
    "ExecuteTime": {
     "end_time": "2024-04-08T16:28:07.522342200Z",
     "start_time": "2024-04-08T16:27:49.717954600Z"
    }
   },
   "id": "9117c119fa757e1c",
   "execution_count": 5
  }
 ],
 "metadata": {
  "kernelspec": {
   "display_name": "Python 3",
   "language": "python",
   "name": "python3"
  },
  "language_info": {
   "codemirror_mode": {
    "name": "ipython",
    "version": 2
   },
   "file_extension": ".py",
   "mimetype": "text/x-python",
   "name": "python",
   "nbconvert_exporter": "python",
   "pygments_lexer": "ipython2",
   "version": "2.7.6"
  }
 },
 "nbformat": 4,
 "nbformat_minor": 5
}
