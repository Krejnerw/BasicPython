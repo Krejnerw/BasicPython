{
 "cells": [
  {
   "cell_type": "markdown",
   "source": [
    "Napisz skrypt, który pobiera od użytkownika wartość i:\n",
    "\n",
    "- sprawdzaj czy podana wartość jest rzutowalna na typ int i float i wyświetl stosowne komunikaty."
   ],
   "metadata": {
    "collapsed": false
   },
   "id": "2bb2ad37daa341e5"
  },
  {
   "cell_type": "code",
   "outputs": [
    {
     "name": "stdout",
     "output_type": "stream",
     "text": [
      "value 12 can be converted to integer\n",
      "value 12 can be converted to float\n"
     ]
    }
   ],
   "source": [
    "number = input('Enter a value: ')\n",
    "\n",
    "if number.isnumeric():\n",
    "    print(f'value {number} can be converted to integer')\n",
    "else:\n",
    "    print(f'value {number} not can be converted to integer')\n",
    "    \n",
    "try:\n",
    "    float(number)\n",
    "    print(f'value {number} can be converted to float')\n",
    "except ValueError:\n",
    "    float(number)\n",
    "    print(f'value {number} can not be converted to float')"
   ],
   "metadata": {
    "collapsed": false,
    "ExecuteTime": {
     "end_time": "2024-03-17T19:24:50.546574700Z",
     "start_time": "2024-03-17T19:24:47.459570400Z"
    }
   },
   "id": "77062ba8e0280f45",
   "execution_count": 6
  }
 ],
 "metadata": {
  "kernelspec": {
   "display_name": "Python 3",
   "language": "python",
   "name": "python3"
  },
  "language_info": {
   "codemirror_mode": {
    "name": "ipython",
    "version": 2
   },
   "file_extension": ".py",
   "mimetype": "text/x-python",
   "name": "python",
   "nbconvert_exporter": "python",
   "pygments_lexer": "ipython2",
   "version": "2.7.6"
  }
 },
 "nbformat": 4,
 "nbformat_minor": 5
}
