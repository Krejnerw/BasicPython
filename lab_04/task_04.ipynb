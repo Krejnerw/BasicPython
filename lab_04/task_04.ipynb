{
 "cells": [
  {
   "cell_type": "markdown",
   "source": [
    "Pobieraj z klawiatury wartość w postaci liczby całkowitej, a następnie wyświetl ją w postaci liczby binarnej, ósemkowej i szesnastkowej."
   ],
   "metadata": {
    "collapsed": false
   },
   "id": "2bb2ad37daa341e5"
  },
  {
   "cell_type": "code",
   "outputs": [
    {
     "name": "stdout",
     "output_type": "stream",
     "text": [
      "12 as binary 1100\n",
      "12 as octal 14\n",
      "12 as hexadecimal c\n"
     ]
    }
   ],
   "source": [
    "number = int(input('Enter a integer: '))\n",
    "print(f'{number} as binary {number:b}')\n",
    "print(f'{number} as octal {number:o}')\n",
    "print(f'{number} as hexadecimal {number:x}')"
   ],
   "metadata": {
    "collapsed": false,
    "ExecuteTime": {
     "end_time": "2024-03-17T19:24:38.771069200Z",
     "start_time": "2024-03-17T19:24:35.581069200Z"
    }
   },
   "id": "77062ba8e0280f45",
   "execution_count": 5
  }
 ],
 "metadata": {
  "kernelspec": {
   "display_name": "Python 3",
   "language": "python",
   "name": "python3"
  },
  "language_info": {
   "codemirror_mode": {
    "name": "ipython",
    "version": 2
   },
   "file_extension": ".py",
   "mimetype": "text/x-python",
   "name": "python",
   "nbconvert_exporter": "python",
   "pygments_lexer": "ipython2",
   "version": "2.7.6"
  }
 },
 "nbformat": 4,
 "nbformat_minor": 5
}
