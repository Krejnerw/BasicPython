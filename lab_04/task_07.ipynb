{
 "cells": [
  {
   "cell_type": "markdown",
   "source": [
    "Wykorzystaj moduł _this_ (sprawdź jego kod źródłowy) i korzystając z umieszczonego tam słownika kodującego (sprawdź dostępne zmienne modułu _this_) napisz skrypt, który będzie kodował tym słownikiem wpisywane zdanie (przechwytuj z klawiatury). Wypisuj na konsoli zakodowane zdanie."
   ],
   "metadata": {
    "collapsed": false
   },
   "id": "2bb2ad37daa341e5"
  },
  {
   "cell_type": "code",
   "outputs": [
    {
     "name": "stdout",
     "output_type": "stream",
     "text": [
      "<class 'module'>\n"
     ]
    }
   ],
   "source": [
    "import this\n",
    "print(type(this))"
   ],
   "metadata": {
    "collapsed": false,
    "ExecuteTime": {
     "end_time": "2024-03-17T19:25:55.290798800Z",
     "start_time": "2024-03-17T19:25:55.271290Z"
    }
   },
   "id": "b784befeab549d28",
   "execution_count": 31
  },
  {
   "cell_type": "code",
   "outputs": [
    {
     "data": {
      "text/plain": "{'A': 'N',\n 'B': 'O',\n 'C': 'P',\n 'D': 'Q',\n 'E': 'R',\n 'F': 'S',\n 'G': 'T',\n 'H': 'U',\n 'I': 'V',\n 'J': 'W',\n 'K': 'X',\n 'L': 'Y',\n 'M': 'Z',\n 'N': 'A',\n 'O': 'B',\n 'P': 'C',\n 'Q': 'D',\n 'R': 'E',\n 'S': 'F',\n 'T': 'G',\n 'U': 'H',\n 'V': 'I',\n 'W': 'J',\n 'X': 'K',\n 'Y': 'L',\n 'Z': 'M',\n 'a': 'n',\n 'b': 'o',\n 'c': 'p',\n 'd': 'q',\n 'e': 'r',\n 'f': 's',\n 'g': 't',\n 'h': 'u',\n 'i': 'v',\n 'j': 'w',\n 'k': 'x',\n 'l': 'y',\n 'm': 'z',\n 'n': 'a',\n 'o': 'b',\n 'p': 'c',\n 'q': 'd',\n 'r': 'e',\n 's': 'f',\n 't': 'g',\n 'u': 'h',\n 'v': 'i',\n 'w': 'j',\n 'x': 'k',\n 'y': 'l',\n 'z': 'm'}"
     },
     "execution_count": 32,
     "metadata": {},
     "output_type": "execute_result"
    }
   ],
   "source": [
    "this.d"
   ],
   "metadata": {
    "collapsed": false,
    "ExecuteTime": {
     "end_time": "2024-03-17T19:25:55.291288Z",
     "start_time": "2024-03-17T19:25:55.279290800Z"
    }
   },
   "id": "8a0df15571163af1",
   "execution_count": 32
  },
  {
   "cell_type": "code",
   "outputs": [
    {
     "data": {
      "text/plain": "\"Gur Mra bs Clguba, ol Gvz Crgref\\n\\nOrnhgvshy vf orggre guna htyl.\\nRkcyvpvg vf orggre guna vzcyvpvg.\\nFvzcyr vf orggre guna pbzcyrk.\\nPbzcyrk vf orggre guna pbzcyvpngrq.\\nSyng vf orggre guna arfgrq.\\nFcnefr vf orggre guna qrafr.\\nErnqnovyvgl pbhagf.\\nFcrpvny pnfrf nera'g fcrpvny rabhtu gb oernx gur ehyrf.\\nNygubhtu cenpgvpnyvgl orngf chevgl.\\nReebef fubhyq arire cnff fvyragyl.\\nHayrff rkcyvpvgyl fvyraprq.\\nVa gur snpr bs nzovthvgl, ershfr gur grzcgngvba gb thrff.\\nGurer fubhyq or bar-- naq cersrenoyl bayl bar --boivbhf jnl gb qb vg.\\nNygubhtu gung jnl znl abg or boivbhf ng svefg hayrff lbh'er Qhgpu.\\nAbj vf orggre guna arire.\\nNygubhtu arire vf bsgra orggre guna *evtug* abj.\\nVs gur vzcyrzragngvba vf uneq gb rkcynva, vg'f n onq vqrn.\\nVs gur vzcyrzragngvba vf rnfl gb rkcynva, vg znl or n tbbq vqrn.\\nAnzrfcnprf ner bar ubaxvat terng vqrn -- yrg'f qb zber bs gubfr!\""
     },
     "execution_count": 33,
     "metadata": {},
     "output_type": "execute_result"
    }
   ],
   "source": [
    "this.s"
   ],
   "metadata": {
    "collapsed": false,
    "ExecuteTime": {
     "end_time": "2024-03-17T19:25:55.338288100Z",
     "start_time": "2024-03-17T19:25:55.288288200Z"
    }
   },
   "id": "56ceb74ada887b62",
   "execution_count": 33
  },
  {
   "cell_type": "code",
   "outputs": [
    {
     "name": "stdout",
     "output_type": "stream",
     "text": [
      "Encoded sentence: ubunfcv;pf\n"
     ]
    }
   ],
   "source": [
    "sentence = input('Enter a sentence: ')\n",
    "new_sentence = \"\"\n",
    "for i in sentence:\n",
    "    try:\n",
    "        new_sentence += this.d[i]\n",
    "    except KeyError:\n",
    "        new_sentence += i\n",
    "print(f'Encoded sentence: {new_sentence}')"
   ],
   "metadata": {
    "collapsed": false,
    "ExecuteTime": {
     "end_time": "2024-03-17T19:25:59.312344900Z",
     "start_time": "2024-03-17T19:25:55.298792100Z"
    }
   },
   "id": "a71a1f7d5e55eea7",
   "execution_count": 34
  }
 ],
 "metadata": {
  "kernelspec": {
   "display_name": "Python 3",
   "language": "python",
   "name": "python3"
  },
  "language_info": {
   "codemirror_mode": {
    "name": "ipython",
    "version": 2
   },
   "file_extension": ".py",
   "mimetype": "text/x-python",
   "name": "python",
   "nbconvert_exporter": "python",
   "pygments_lexer": "ipython2",
   "version": "2.7.6"
  }
 },
 "nbformat": 4,
 "nbformat_minor": 5
}
