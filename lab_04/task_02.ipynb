{
 "cells": [
  {
   "cell_type": "markdown",
   "source": [
    "Napisz skrypt, który rysuje diament. \n",
    "Użytkownik podaje wysokość nie mniej jak 3 i nie więcej jak 9, ale tylko nieparzysta wysokość."
   ],
   "metadata": {
    "collapsed": false
   },
   "id": "2bb2ad37daa341e5"
  },
  {
   "cell_type": "code",
   "execution_count": 28,
   "id": "initial_id",
   "metadata": {
    "collapsed": true,
    "ExecuteTime": {
     "end_time": "2024-03-17T19:24:23.357568800Z",
     "start_time": "2024-03-17T19:24:20.812082100Z"
    }
   },
   "outputs": [
    {
     "name": "stdout",
     "output_type": "stream",
     "text": [
      "  o  \n",
      " ooo \n",
      "ooooo\n",
      " ooo \n",
      "  o  \n"
     ]
    }
   ],
   "source": [
    "height = int(input(\"Enter a height, it should be no less than 3 and no more than 9, it should be odd: \"))\n",
    "\n",
    "middle_point = height//2+1\n",
    "for i in range(1,height+1,2):\n",
    "    print((\"o\"*int(i)).center(height))\n",
    "    \n",
    "for i in range(height-2,0,-2):\n",
    "    print((\"o\"*int(i)).center(height))"
   ]
  }
 ],
 "metadata": {
  "kernelspec": {
   "display_name": "Python 3",
   "language": "python",
   "name": "python3"
  },
  "language_info": {
   "codemirror_mode": {
    "name": "ipython",
    "version": 2
   },
   "file_extension": ".py",
   "mimetype": "text/x-python",
   "name": "python",
   "nbconvert_exporter": "python",
   "pygments_lexer": "ipython2",
   "version": "2.7.6"
  }
 },
 "nbformat": 4,
 "nbformat_minor": 5
}
