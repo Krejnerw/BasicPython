{
 "cells": [
  {
   "cell_type": "markdown",
   "source": [
    "Napisz skrypt, który rysuje diament. \n",
    "Użytkownik podaje wysokość nie mniej jak 3 i nie więcej jak 9, ale tylko nieparzysta wysokość."
   ],
   "metadata": {
    "collapsed": false
   },
   "id": "2bb2ad37daa341e5"
  },
  {
   "cell_type": "code",
   "execution_count": 2,
   "id": "initial_id",
   "metadata": {
    "collapsed": true,
    "ExecuteTime": {
     "end_time": "2024-04-05T13:08:16.790803Z",
     "start_time": "2024-04-05T13:08:14.228602800Z"
    }
   },
   "outputs": [],
   "source": [
    "height = int(input(\"Enter a height, it should be no less than 3 and no more than 9, it should be odd: \"))\n",
    "if height % 2 == 1 and 3 <= height <= 9:\n",
    "    middle_point = height//2+1\n",
    "    for i in range(1,height+1,2):\n",
    "        print((\"o\"*int(i)).center(height))\n",
    "        \n",
    "    for i in range(height-2,0,-2):\n",
    "        print((\"o\"*int(i)).center(height))"
   ]
  }
 ],
 "metadata": {
  "kernelspec": {
   "display_name": "Python 3",
   "language": "python",
   "name": "python3"
  },
  "language_info": {
   "codemirror_mode": {
    "name": "ipython",
    "version": 2
   },
   "file_extension": ".py",
   "mimetype": "text/x-python",
   "name": "python",
   "nbconvert_exporter": "python",
   "pygments_lexer": "ipython2",
   "version": "2.7.6"
  }
 },
 "nbformat": 4,
 "nbformat_minor": 5
}
