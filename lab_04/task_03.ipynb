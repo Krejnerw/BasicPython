{
 "cells": [
  {
   "cell_type": "markdown",
   "source": [
    "Napisz skrypt, który wyświetla i oblicza tabliczkę mnożenia od 1 do 100 w formie tabeli, z wyrównaniem liczb do strony prawej, nagłówkiem kolumn i wierszy."
   ],
   "metadata": {
    "collapsed": false
   },
   "id": "2bb2ad37daa341e5"
  },
  {
   "cell_type": "code",
   "outputs": [
    {
     "name": "stdout",
     "output_type": "stream",
     "text": [
      "   1|   2   3   4   5   6   7   8   9  10\n",
      "_________________________________________\n",
      "   2|   4   6   8  10  12  14  16  18  20\n",
      "   3|   6   9  12  15  18  21  24  27  30\n",
      "   4|   8  12  16  20  24  28  32  36  40\n",
      "   5|  10  15  20  25  30  35  40  45  50\n",
      "   6|  12  18  24  30  36  42  48  54  60\n",
      "   7|  14  21  28  35  42  49  56  63  70\n",
      "   8|  16  24  32  40  48  56  64  72  80\n",
      "   9|  18  27  36  45  54  63  72  81  90\n",
      "  10|  20  30  40  50  60  70  80  90 100\n"
     ]
    }
   ],
   "source": [
    "max_row_size = 4\n",
    "response = ''\n",
    "for i in range(1,11):\n",
    "    row = ''\n",
    "    for j in range(1,11):\n",
    "        number = str(i*j)\n",
    "            \n",
    "        if j == 1:\n",
    "            row += \" \"*(max_row_size- len(number))+number+\"|\"\n",
    "        else:\n",
    "            row += \" \"*(max_row_size- len(number))+number\n",
    "    response+=row+\"\\n\"\n",
    "    if i == 1 :\n",
    "        response += \"_\"*max_row_size*10+\"_\"+\"\\n\" \n",
    "print(response)"
   ],
   "metadata": {
    "collapsed": false,
    "ExecuteTime": {
     "end_time": "2024-03-17T19:24:30.473569500Z",
     "start_time": "2024-03-17T19:24:30.460574800Z"
    }
   },
   "id": "77062ba8e0280f45",
   "execution_count": 10
  },
  {
   "cell_type": "code",
   "outputs": [],
   "source": [],
   "metadata": {
    "collapsed": false,
    "ExecuteTime": {
     "end_time": "2024-03-17T19:24:30.481568900Z",
     "start_time": "2024-03-17T19:24:30.469104600Z"
    }
   },
   "id": "60300be1641de669",
   "execution_count": 10
  }
 ],
 "metadata": {
  "kernelspec": {
   "display_name": "Python 3",
   "language": "python",
   "name": "python3"
  },
  "language_info": {
   "codemirror_mode": {
    "name": "ipython",
    "version": 2
   },
   "file_extension": ".py",
   "mimetype": "text/x-python",
   "name": "python",
   "nbconvert_exporter": "python",
   "pygments_lexer": "ipython2",
   "version": "2.7.6"
  }
 },
 "nbformat": 4,
 "nbformat_minor": 5
}
