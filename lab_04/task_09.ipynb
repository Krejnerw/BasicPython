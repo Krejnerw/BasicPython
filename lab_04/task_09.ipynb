{
 "cells": [
  {
   "cell_type": "markdown",
   "source": [
    "Napisz skrypt, który z tabeli dostępnej pod adresem http://prawolaffera.pl/uniwersalny-kod-przemowien/ (dane należy zaszyć w skrypcie na stałe) będzie generował n zdań na konsolę. Ilość zdań podawana jest przez użytkownika z klawiatury."
   ],
   "metadata": {
    "collapsed": false
   },
   "id": "2bb2ad37daa341e5"
  },
  {
   "cell_type": "code",
   "outputs": [],
   "source": [
    "from random import randint\n",
    "\n",
    "data = [\n",
    "    ['Koleżanki i koledzy', 'Z drugiej strony', 'Podobnie', 'Nie zapominajmy jednak, że', 'W ten oto sposób',\n",
    "     'Praktyka dnia codziennego dowodzi, że', 'Wagi i znaczenia tych problemów nie trzeba szerzej uzasadniać, ponieważ',\n",
    "     'Różnorakie i bogate doświadczenia', 'Troska organizacji, a szczególnie', 'Wyższe założenia ideowe, a także'],\n",
    "    ['realizacja nakreślonych zadań programowych', 'zakres i miejsce szkolenia kadr',\n",
    "     'stały wzrost ilości i zakres naszej aktywności', 'aktualna struktura organizacji',\n",
    "     'nowy model działalności organizacyjnej', 'dalszy rozwój różnych form działalności',\n",
    "     'stałe zabezpieczenie informacyjno programowe naszej działalności', 'wzmacnianie i rozwijanie struktur',\n",
    "     'konsultacja z szerokim aktywem', 'rozpoczęcie powszechnej akcji kształtowania postaw'],\n",
    "    ['zmusza nas do przeanalizowania', 'spełnia istotną rolę w kształtowaniu', 'wymaga sprecyzowania i określenia',\n",
    "     'pomaga w przygotowaniu i realizacji', 'zabezpiecza udział szerokiej grupie w kształtowaniu',\n",
    "     'spełnia ważne zadania w wypracowaniu', 'umożliwia w większym stopniu tworzenie', 'powoduje docenianie wagi',\n",
    "     'przedstawia interesującą próbę sprawdzenia', 'pociąga za sobą proces wdrażania i unowocześniania'],\n",
    "    ['istniejących warunków administracyjno-finansowych.', 'dalszych kierunków rozwoju.',\n",
    "     'systemu powszechnego uczestnictwa.', 'postaw uczestników wobec zadań stawianych przez organizację.',\n",
    "     'nowych propozycji.', 'kierunków postępowego wychowania.', 'systemu szkolenia kadry odpowiadającego potrzebom.',\n",
    "     'odpowiednich warunków aktywizacji.', 'modelu rozwoju.', 'form oddziaływania.']\n",
    "]"
   ],
   "metadata": {
    "collapsed": false,
    "ExecuteTime": {
     "end_time": "2024-04-11T15:30:12.743296700Z",
     "start_time": "2024-04-11T15:30:12.738790500Z"
    }
   },
   "id": "ed3ae7f163d8d117",
   "execution_count": 19
  },
  {
   "cell_type": "code",
   "outputs": [
    {
     "name": "stdout",
     "output_type": "stream",
     "text": [
      "Wagi i znaczenia tych problemów nie trzeba szerzej uzasadniać, ponieważ stałe zabezpieczenie informacyjno programowe naszej działalności spełnia ważne zadania w wypracowaniu modelu rozwoju.\n",
      "W ten oto sposób nowy model działalności organizacyjnej zabezpiecza udział szerokiej grupie w kształtowaniu nowych propozycji.\n",
      "W ten oto sposób realizacja nakreślonych zadań programowych pociąga za sobą proces wdrażania i unowocześniania systemu szkolenia kadry odpowiadającego potrzebom.\n",
      "Wyższe założenia ideowe, a także stałe zabezpieczenie informacyjno programowe naszej działalności spełnia istotną rolę w kształtowaniu odpowiednich warunków aktywizacji.\n",
      "Koleżanki i koledzy konsultacja z szerokim aktywem spełnia ważne zadania w wypracowaniu systemu szkolenia kadry odpowiadającego potrzebom.\n",
      "W ten oto sposób konsultacja z szerokim aktywem przedstawia interesującą próbę sprawdzenia postaw uczestników wobec zadań stawianych przez organizację.\n",
      "Praktyka dnia codziennego dowodzi, że rozpoczęcie powszechnej akcji kształtowania postaw powoduje docenianie wagi dalszych kierunków rozwoju.\n",
      "Wyższe założenia ideowe, a także aktualna struktura organizacji spełnia istotną rolę w kształtowaniu systemu powszechnego uczestnictwa.\n",
      "Podobnie rozpoczęcie powszechnej akcji kształtowania postaw powoduje docenianie wagi dalszych kierunków rozwoju.\n",
      "Różnorakie i bogate doświadczenia konsultacja z szerokim aktywem wymaga sprecyzowania i określenia dalszych kierunków rozwoju.\n",
      "Praktyka dnia codziennego dowodzi, że wzmacnianie i rozwijanie struktur pomaga w przygotowaniu i realizacji modelu rozwoju.\n",
      "Nie zapominajmy jednak, że nowy model działalności organizacyjnej umożliwia w większym stopniu tworzenie odpowiednich warunków aktywizacji.\n",
      "Różnorakie i bogate doświadczenia stałe zabezpieczenie informacyjno programowe naszej działalności umożliwia w większym stopniu tworzenie systemu powszechnego uczestnictwa.\n",
      "Praktyka dnia codziennego dowodzi, że zakres i miejsce szkolenia kadr powoduje docenianie wagi nowych propozycji.\n",
      "Z drugiej strony stały wzrost ilości i zakres naszej aktywności wymaga sprecyzowania i określenia odpowiednich warunków aktywizacji.\n",
      "Różnorakie i bogate doświadczenia rozpoczęcie powszechnej akcji kształtowania postaw pomaga w przygotowaniu i realizacji form oddziaływania.\n",
      "Podobnie realizacja nakreślonych zadań programowych wymaga sprecyzowania i określenia form oddziaływania.\n",
      "Różnorakie i bogate doświadczenia realizacja nakreślonych zadań programowych spełnia ważne zadania w wypracowaniu systemu powszechnego uczestnictwa.\n",
      "Wyższe założenia ideowe, a także wzmacnianie i rozwijanie struktur zmusza nas do przeanalizowania postaw uczestników wobec zadań stawianych przez organizację.\n",
      "Koleżanki i koledzy nowy model działalności organizacyjnej pociąga za sobą proces wdrażania i unowocześniania odpowiednich warunków aktywizacji.\n",
      "Wyższe założenia ideowe, a także stałe zabezpieczenie informacyjno programowe naszej działalności pomaga w przygotowaniu i realizacji systemu powszechnego uczestnictwa.\n",
      "Nie zapominajmy jednak, że stałe zabezpieczenie informacyjno programowe naszej działalności pomaga w przygotowaniu i realizacji istniejących warunków administracyjno-finansowych.\n",
      "Nie zapominajmy jednak, że zakres i miejsce szkolenia kadr zabezpiecza udział szerokiej grupie w kształtowaniu modelu rozwoju.\n",
      "Podobnie stały wzrost ilości i zakres naszej aktywności pomaga w przygotowaniu i realizacji postaw uczestników wobec zadań stawianych przez organizację.\n",
      "W ten oto sposób konsultacja z szerokim aktywem pociąga za sobą proces wdrażania i unowocześniania dalszych kierunków rozwoju.\n",
      "Nie zapominajmy jednak, że stały wzrost ilości i zakres naszej aktywności przedstawia interesującą próbę sprawdzenia kierunków postępowego wychowania.\n",
      "Praktyka dnia codziennego dowodzi, że konsultacja z szerokim aktywem spełnia ważne zadania w wypracowaniu systemu szkolenia kadry odpowiadającego potrzebom.\n",
      "Z drugiej strony konsultacja z szerokim aktywem zmusza nas do przeanalizowania istniejących warunków administracyjno-finansowych.\n",
      "Troska organizacji, a szczególnie stałe zabezpieczenie informacyjno programowe naszej działalności przedstawia interesującą próbę sprawdzenia postaw uczestników wobec zadań stawianych przez organizację.\n",
      "W ten oto sposób wzmacnianie i rozwijanie struktur zmusza nas do przeanalizowania nowych propozycji.\n",
      "Podobnie nowy model działalności organizacyjnej spełnia istotną rolę w kształtowaniu systemu szkolenia kadry odpowiadającego potrzebom.\n",
      "W ten oto sposób wzmacnianie i rozwijanie struktur zabezpiecza udział szerokiej grupie w kształtowaniu kierunków postępowego wychowania.\n",
      "Z drugiej strony rozpoczęcie powszechnej akcji kształtowania postaw umożliwia w większym stopniu tworzenie dalszych kierunków rozwoju.\n",
      "Z drugiej strony stały wzrost ilości i zakres naszej aktywności pomaga w przygotowaniu i realizacji modelu rozwoju.\n",
      "Wagi i znaczenia tych problemów nie trzeba szerzej uzasadniać, ponieważ zakres i miejsce szkolenia kadr pomaga w przygotowaniu i realizacji dalszych kierunków rozwoju.\n",
      "Troska organizacji, a szczególnie realizacja nakreślonych zadań programowych pociąga za sobą proces wdrażania i unowocześniania systemu szkolenia kadry odpowiadającego potrzebom.\n",
      "Koleżanki i koledzy stałe zabezpieczenie informacyjno programowe naszej działalności zmusza nas do przeanalizowania systemu powszechnego uczestnictwa.\n",
      "W ten oto sposób rozpoczęcie powszechnej akcji kształtowania postaw spełnia istotną rolę w kształtowaniu postaw uczestników wobec zadań stawianych przez organizację.\n",
      "Praktyka dnia codziennego dowodzi, że zakres i miejsce szkolenia kadr pomaga w przygotowaniu i realizacji nowych propozycji.\n",
      "Nie zapominajmy jednak, że nowy model działalności organizacyjnej spełnia ważne zadania w wypracowaniu systemu szkolenia kadry odpowiadającego potrzebom.\n"
     ]
    }
   ],
   "source": [
    "n = int(input('Enter a number: '))\n",
    "for i in range(0, n):\n",
    "    sentence = data[0][randint(0, 9)]\n",
    "    sentence += \" \" + data[1][randint(0, 9)]\n",
    "    sentence += \" \" + data[2][randint(0, 9)]\n",
    "    sentence += \" \" + data[3][randint(0, 9)]\n",
    "    print(sentence)\n",
    "    sentence = \"\""
   ],
   "metadata": {
    "collapsed": false,
    "ExecuteTime": {
     "end_time": "2024-04-11T15:30:15.445736600Z",
     "start_time": "2024-04-11T15:30:12.744290900Z"
    }
   },
   "id": "b784befeab549d28",
   "execution_count": 20
  }
 ],
 "metadata": {
  "kernelspec": {
   "display_name": "Python 3",
   "language": "python",
   "name": "python3"
  },
  "language_info": {
   "codemirror_mode": {
    "name": "ipython",
    "version": 2
   },
   "file_extension": ".py",
   "mimetype": "text/x-python",
   "name": "python",
   "nbconvert_exporter": "python",
   "pygments_lexer": "ipython2",
   "version": "2.7.6"
  }
 },
 "nbformat": 4,
 "nbformat_minor": 5
}
