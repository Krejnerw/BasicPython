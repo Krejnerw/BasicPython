{
 "cells": [
  {
   "cell_type": "markdown",
   "source": [
    "Napisz skrypt, który z tabeli dostępnej pod adresem http://prawolaffera.pl/uniwersalny-kod-przemowien/ (dane należy zaszyć w skrypcie na stałe) będzie generował n zdań na konsolę. Ilość zdań podawana jest przez użytkownika z klawiatury."
   ],
   "metadata": {
    "collapsed": false
   },
   "id": "2bb2ad37daa341e5"
  },
  {
   "cell_type": "code",
   "outputs": [],
   "source": [
    "from random import randint\n",
    "\n",
    "data = [\n",
    "    ['Koleżanki i koledzy', 'Z drugiej strony', 'Podobnie', 'Nie zapominajmy jednak, że', 'W ten oto sposób',\n",
    "     'Praktyka dnia codziennego dowodzi, że', 'Wagi i znaczenia tych problemów nie trzeba szerzej uzasadniać, ponieważ',\n",
    "     'Różnorakie i bogate doświadczenia', 'Troska organizacji, a szczególnie', 'Wyższe założenia ideowe, a także'],\n",
    "    ['realizacja nakreślonych zadań programowych', 'zakres i miejsce szkolenia kadr',\n",
    "     'stały wzrost ilości i zakres naszej aktywności', 'aktualna struktura organizacji',\n",
    "     'nowy model działalności organizacyjnej', 'dalszy rozwój różnych form działalności',\n",
    "     'stałe zabezpieczenie informacyjno programowe naszej działalności', 'wzmacnianie i rozwijanie struktur',\n",
    "     'konsultacja z szerokim aktywem', 'rozpoczęcie powszechnej akcji kształtowania postaw'],\n",
    "    ['zmusza nas do przeanalizowania', 'spełnia istotną rolę w kształtowaniu', 'wymaga sprecyzowania i określenia',\n",
    "     'pomaga w przygotowaniu i realizacji', 'zabezpiecza udział szerokiej grupie w kształtowaniu',\n",
    "     'spełnia ważne zadania w wypracowaniu', 'umożliwia w większym stopniu tworzenie', 'powoduje docenianie wagi',\n",
    "     'przedstawia interesującą próbę sprawdzenia', 'pociąga za sobą proces wdrażania i unowocześniania'],\n",
    "    ['istniejących warunków administracyjno-finansowych.', 'dalszych kierunków rozwoju.',\n",
    "     'systemu powszechnego uczestnictwa.', 'postaw uczestników wobec zadań stawianych przez organizację.',\n",
    "     'nowych propozycji.', 'kierunków postępowego wychowania.', 'systemu szkolenia kadry odpowiadającego potrzebom.',\n",
    "     'odpowiednich warunków aktywizacji.', 'modelu rozwoju.', 'form oddziaływania.']\n",
    "]"
   ],
   "metadata": {
    "collapsed": false,
    "ExecuteTime": {
     "end_time": "2024-03-17T19:08:45.191436600Z",
     "start_time": "2024-03-17T19:08:45.176935700Z"
    }
   },
   "id": "ed3ae7f163d8d117",
   "execution_count": 9
  },
  {
   "cell_type": "code",
   "outputs": [
    {
     "name": "stdout",
     "output_type": "stream",
     "text": [
      "Z drugiej strony zakres i miejsce szkolenia kadr zmusza nas do przeanalizowania kierunków postępowego wychowania.\n"
     ]
    }
   ],
   "source": [
    "n = int(input('Enter a number: '))\n",
    "for i in range(0, n):\n",
    "    sentence = data[0][randint(0, 9)]\n",
    "    sentence += \" \" + data[1][randint(0, 10)]\n",
    "    sentence += \" \" + data[2][randint(0, 10)]\n",
    "    sentence += \" \" + data[3][randint(0, 10)]\n",
    "    print(sentence)"
   ],
   "metadata": {
    "collapsed": false,
    "ExecuteTime": {
     "end_time": "2024-03-17T19:08:48.729935400Z",
     "start_time": "2024-03-17T19:08:45.198936400Z"
    }
   },
   "id": "b784befeab549d28",
   "execution_count": 10
  }
 ],
 "metadata": {
  "kernelspec": {
   "display_name": "Python 3",
   "language": "python",
   "name": "python3"
  },
  "language_info": {
   "codemirror_mode": {
    "name": "ipython",
    "version": 2
   },
   "file_extension": ".py",
   "mimetype": "text/x-python",
   "name": "python",
   "nbconvert_exporter": "python",
   "pygments_lexer": "ipython2",
   "version": "2.7.6"
  }
 },
 "nbformat": 4,
 "nbformat_minor": 5
}
