{
 "cells": [
  {
   "cell_type": "code",
   "execution_count": 41,
   "id": "initial_id",
   "metadata": {
    "collapsed": true,
    "ExecuteTime": {
     "end_time": "2024-03-02T13:52:45.040424600Z",
     "start_time": "2024-03-02T13:52:43.065442200Z"
    }
   },
   "outputs": [],
   "source": [
    "sentence = input(\"Enter the sentence: \")"
   ]
  },
  {
   "cell_type": "code",
   "outputs": [],
   "source": [
    "unique_letters = sorted(set(sentence.lower()))"
   ],
   "metadata": {
    "collapsed": false,
    "ExecuteTime": {
     "end_time": "2024-03-02T13:52:45.040424600Z",
     "start_time": "2024-03-02T13:52:45.028418500Z"
    }
   },
   "id": "29a047cdbf3b242f",
   "execution_count": 42
  },
  {
   "cell_type": "code",
   "outputs": [
    {
     "name": "stdout",
     "output_type": "stream",
     "text": [
      "['b', 'c', 'd', 'f', 'g', 'm', 'n', 's', 'v', 'x']\n"
     ]
    }
   ],
   "source": [
    "print(unique_letters)"
   ],
   "metadata": {
    "collapsed": false,
    "ExecuteTime": {
     "end_time": "2024-03-02T13:52:45.040916700Z",
     "start_time": "2024-03-02T13:52:45.031917700Z"
    }
   },
   "id": "f19765a8118424be",
   "execution_count": 43
  },
  {
   "cell_type": "code",
   "outputs": [],
   "source": [],
   "metadata": {
    "collapsed": false,
    "ExecuteTime": {
     "end_time": "2024-03-02T13:52:45.040916700Z",
     "start_time": "2024-03-02T13:52:45.036097900Z"
    }
   },
   "id": "4e0a6bb3c5b76572",
   "execution_count": 43
  }
 ],
 "metadata": {
  "kernelspec": {
   "display_name": "Python 3",
   "language": "python",
   "name": "python3"
  },
  "language_info": {
   "codemirror_mode": {
    "name": "ipython",
    "version": 2
   },
   "file_extension": ".py",
   "mimetype": "text/x-python",
   "name": "python",
   "nbconvert_exporter": "python",
   "pygments_lexer": "ipython2",
   "version": "2.7.6"
  }
 },
 "nbformat": 4,
 "nbformat_minor": 5
}
