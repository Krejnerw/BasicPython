{
 "cells": [
  {
   "cell_type": "markdown",
   "source": [
    "## task_01"
   ],
   "metadata": {
    "collapsed": false
   },
   "id": "8f00e271b423e3ef"
  },
  {
   "cell_type": "code",
   "execution_count": 1,
   "id": "initial_id",
   "metadata": {
    "collapsed": true,
    "ExecuteTime": {
     "end_time": "2024-03-08T15:08:37.602750100Z",
     "start_time": "2024-03-08T15:08:37.595246600Z"
    }
   },
   "outputs": [],
   "source": [
    "numbers = list(range(1,11))"
   ]
  },
  {
   "cell_type": "code",
   "outputs": [
    {
     "name": "stdout",
     "output_type": "stream",
     "text": [
      "[1, 2, 3, 4, 5, 6, 7, 8, 9, 10]\n"
     ]
    }
   ],
   "source": [
    "print(numbers)"
   ],
   "metadata": {
    "collapsed": false,
    "ExecuteTime": {
     "end_time": "2024-03-08T15:08:37.614248400Z",
     "start_time": "2024-03-08T15:08:37.602247900Z"
    }
   },
   "id": "ddc9ca255c5e52c5",
   "execution_count": 2
  },
  {
   "cell_type": "code",
   "outputs": [],
   "source": [
    "new_list = []\n",
    "for i in range(5):\n",
    "    new_list.append(numbers.pop(5))"
   ],
   "metadata": {
    "collapsed": false,
    "ExecuteTime": {
     "end_time": "2024-03-08T15:08:37.615059600Z",
     "start_time": "2024-03-08T15:08:37.609748Z"
    }
   },
   "id": "cba75f532dac0bf6",
   "execution_count": 3
  },
  {
   "cell_type": "markdown",
   "source": [
    "pod(id) mniej wydajne "
   ],
   "metadata": {
    "collapsed": false
   },
   "id": "ed5cee6c64207289"
  },
  {
   "cell_type": "code",
   "outputs": [
    {
     "name": "stdout",
     "output_type": "stream",
     "text": [
      "[1, 2, 3, 4, 5]\n"
     ]
    }
   ],
   "source": [
    "print(numbers)"
   ],
   "metadata": {
    "collapsed": false,
    "ExecuteTime": {
     "end_time": "2024-03-08T15:08:37.647747200Z",
     "start_time": "2024-03-08T15:08:37.613746900Z"
    }
   },
   "id": "2bc7f605af592bcd",
   "execution_count": 4
  },
  {
   "cell_type": "code",
   "outputs": [
    {
     "name": "stdout",
     "output_type": "stream",
     "text": [
      "[6, 7, 8, 9, 10]\n"
     ]
    }
   ],
   "source": [
    "print(new_list)"
   ],
   "metadata": {
    "collapsed": false,
    "ExecuteTime": {
     "end_time": "2024-03-08T15:08:37.648750100Z",
     "start_time": "2024-03-08T15:08:37.618246500Z"
    }
   },
   "id": "5533bffd1e53a1e1",
   "execution_count": 5
  },
  {
   "cell_type": "markdown",
   "source": [
    "## task_02"
   ],
   "metadata": {
    "collapsed": false
   },
   "id": "12823d1c8b0e8f5"
  },
  {
   "cell_type": "code",
   "outputs": [],
   "source": [
    "numbers.extend(new_list)"
   ],
   "metadata": {
    "collapsed": false,
    "ExecuteTime": {
     "end_time": "2024-03-08T15:08:37.649748600Z",
     "start_time": "2024-03-08T15:08:37.623247Z"
    }
   },
   "id": "aaf4b200b60fdabe",
   "execution_count": 6
  },
  {
   "cell_type": "code",
   "outputs": [
    {
     "name": "stdout",
     "output_type": "stream",
     "text": [
      "[1, 2, 3, 4, 5, 6, 7, 8, 9, 10]\n"
     ]
    }
   ],
   "source": [
    "print(numbers)"
   ],
   "metadata": {
    "collapsed": false,
    "ExecuteTime": {
     "end_time": "2024-03-08T15:08:37.650248500Z",
     "start_time": "2024-03-08T15:08:37.627247Z"
    }
   },
   "id": "318c857faadb862b",
   "execution_count": 7
  },
  {
   "cell_type": "code",
   "outputs": [],
   "source": [
    "numbers.insert(0,0)"
   ],
   "metadata": {
    "collapsed": false,
    "ExecuteTime": {
     "end_time": "2024-03-08T15:08:37.650750500Z",
     "start_time": "2024-03-08T15:08:37.631747300Z"
    }
   },
   "id": "b268d00aab82c568",
   "execution_count": 8
  },
  {
   "cell_type": "code",
   "outputs": [
    {
     "name": "stdout",
     "output_type": "stream",
     "text": [
      "[0, 1, 2, 3, 4, 5, 6, 7, 8, 9, 10]\n"
     ]
    }
   ],
   "source": [
    "x =numbers.copy()\n",
    "x[:1] = [0]\n",
    "print(x)"
   ],
   "metadata": {
    "collapsed": false,
    "ExecuteTime": {
     "end_time": "2024-03-08T15:08:37.651249600Z",
     "start_time": "2024-03-08T15:08:37.635746700Z"
    }
   },
   "id": "30bbf22b02fc9a74",
   "execution_count": 9
  },
  {
   "cell_type": "markdown",
   "source": [
    "numbers[:1] = [0]"
   ],
   "metadata": {
    "collapsed": false
   },
   "id": "6612583552a995af"
  },
  {
   "cell_type": "code",
   "outputs": [
    {
     "name": "stdout",
     "output_type": "stream",
     "text": [
      "[0, 1, 2, 3, 4, 5, 6, 7, 8, 9, 10]\n"
     ]
    }
   ],
   "source": [
    "print(numbers)"
   ],
   "metadata": {
    "collapsed": false,
    "ExecuteTime": {
     "end_time": "2024-03-08T15:08:37.709248900Z",
     "start_time": "2024-03-08T15:08:37.639749800Z"
    }
   },
   "id": "3e0da1af628d0e52",
   "execution_count": 10
  },
  {
   "cell_type": "code",
   "outputs": [],
   "source": [
    "numbers_copy = numbers.copy()"
   ],
   "metadata": {
    "collapsed": false,
    "ExecuteTime": {
     "end_time": "2024-03-08T15:08:37.710246800Z",
     "start_time": "2024-03-08T15:08:37.644249200Z"
    }
   },
   "id": "f1158cbc7987bfeb",
   "execution_count": 11
  },
  {
   "cell_type": "code",
   "outputs": [
    {
     "name": "stdout",
     "output_type": "stream",
     "text": [
      "[0, 1, 2, 3, 4, 5, 6, 7, 8, 9, 10]\n"
     ]
    }
   ],
   "source": [
    "print(numbers_copy)"
   ],
   "metadata": {
    "collapsed": false,
    "ExecuteTime": {
     "end_time": "2024-03-08T15:08:37.712247600Z",
     "start_time": "2024-03-08T15:08:37.648750100Z"
    }
   },
   "id": "11d3d5a9fb31b3d1",
   "execution_count": 12
  },
  {
   "cell_type": "code",
   "outputs": [],
   "source": [
    "numbers_copy.sort(reverse=True)"
   ],
   "metadata": {
    "collapsed": false,
    "ExecuteTime": {
     "end_time": "2024-03-08T15:08:37.712747Z",
     "start_time": "2024-03-08T15:08:37.653748200Z"
    }
   },
   "id": "411e85246fad7a4d",
   "execution_count": 13
  },
  {
   "cell_type": "code",
   "outputs": [
    {
     "name": "stdout",
     "output_type": "stream",
     "text": [
      "[10, 9, 8, 7, 6, 5, 4, 3, 2, 1, 0]\n"
     ]
    }
   ],
   "source": [
    "print(numbers_copy)"
   ],
   "metadata": {
    "collapsed": false,
    "ExecuteTime": {
     "end_time": "2024-03-08T15:08:37.713747500Z",
     "start_time": "2024-03-08T15:08:37.659746600Z"
    }
   },
   "id": "9eefa2a5eebcf1be",
   "execution_count": 14
  }
 ],
 "metadata": {
  "kernelspec": {
   "display_name": "Python 3",
   "language": "python",
   "name": "python3"
  },
  "language_info": {
   "codemirror_mode": {
    "name": "ipython",
    "version": 2
   },
   "file_extension": ".py",
   "mimetype": "text/x-python",
   "name": "python",
   "nbconvert_exporter": "python",
   "pygments_lexer": "ipython2",
   "version": "2.7.6"
  }
 },
 "nbformat": 4,
 "nbformat_minor": 5
}
