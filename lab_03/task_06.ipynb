{
 "cells": [
  {
   "cell_type": "code",
   "execution_count": 5,
   "id": "initial_id",
   "metadata": {
    "collapsed": true,
    "ExecuteTime": {
     "end_time": "2024-03-08T14:53:43.815971Z",
     "start_time": "2024-03-08T14:53:43.791967200Z"
    }
   },
   "outputs": [],
   "source": [
    "name = \"Marianna\""
   ]
  },
  {
   "cell_type": "code",
   "outputs": [],
   "source": [
    "marianna = dict.fromkeys(name,1)"
   ],
   "metadata": {
    "collapsed": false,
    "ExecuteTime": {
     "end_time": "2024-03-08T14:53:43.817970800Z",
     "start_time": "2024-03-08T14:53:43.812967100Z"
    }
   },
   "id": "ad893bd3c0d5522e",
   "execution_count": 6
  },
  {
   "cell_type": "code",
   "outputs": [
    {
     "name": "stdout",
     "output_type": "stream",
     "text": [
      "{'M': 1, 'a': 1, 'r': 1, 'i': 1, 'n': 1}\n"
     ]
    }
   ],
   "source": [
    "print(marianna)"
   ],
   "metadata": {
    "collapsed": false,
    "ExecuteTime": {
     "end_time": "2024-03-08T14:53:43.838968800Z",
     "start_time": "2024-03-08T14:53:43.821469200Z"
    }
   },
   "id": "3dfe17c6a3892af",
   "execution_count": 7
  },
  {
   "cell_type": "markdown",
   "source": [
    "nie da sie dynamicznie \n",
    "value -\t(Optional). The value for all keys. Default value is None\n",
    "ale"
   ],
   "metadata": {
    "collapsed": false
   },
   "id": "1fed3c38b9ec9421"
  },
  {
   "cell_type": "code",
   "outputs": [
    {
     "name": "stdout",
     "output_type": "stream",
     "text": [
      "{'a': [1], 'e': [1], 'u': [1], 'o': [1], 'i': [1]}\n",
      "{'a': [1, 2], 'e': [1, 2], 'u': [1, 2], 'o': [1, 2], 'i': [1, 2]}\n"
     ]
    }
   ],
   "source": [
    "# set of vowels\n",
    "keys = {'a', 'e', 'i', 'o', 'u' }\n",
    "\n",
    "# list of number\n",
    "value = [1]\n",
    "\n",
    "vowels = dict.fromkeys(keys, value)\n",
    "print(vowels)\n",
    "\n",
    "# updates the list value\n",
    "value.append(2)\n",
    "\n",
    "print(vowels)"
   ],
   "metadata": {
    "collapsed": false,
    "ExecuteTime": {
     "end_time": "2024-03-08T14:53:43.838968800Z",
     "start_time": "2024-03-08T14:53:43.826470800Z"
    }
   },
   "id": "6eb4f8b06956d360",
   "execution_count": 8
  },
  {
   "cell_type": "markdown",
   "source": [
    "zmiana wartosci dla wszystkich kluczy jako że odnosza sie to dego samego miejsca w pamieci"
   ],
   "metadata": {
    "collapsed": false
   },
   "id": "4871beb087161c48"
  },
  {
   "cell_type": "code",
   "outputs": [],
   "source": [],
   "metadata": {
    "collapsed": false,
    "ExecuteTime": {
     "end_time": "2024-03-08T14:53:43.839708500Z",
     "start_time": "2024-03-08T14:53:43.830969100Z"
    }
   },
   "id": "d3a1aeb28658b9f8",
   "execution_count": 8
  }
 ],
 "metadata": {
  "kernelspec": {
   "display_name": "Python 3",
   "language": "python",
   "name": "python3"
  },
  "language_info": {
   "codemirror_mode": {
    "name": "ipython",
    "version": 2
   },
   "file_extension": ".py",
   "mimetype": "text/x-python",
   "name": "python",
   "nbconvert_exporter": "python",
   "pygments_lexer": "ipython2",
   "version": "2.7.6"
  }
 },
 "nbformat": 4,
 "nbformat_minor": 5
}
