{
 "cells": [
  {
   "cell_type": "markdown",
   "source": [
    "## task_04"
   ],
   "metadata": {
    "collapsed": false
   },
   "id": "aeed552976338a21"
  },
  {
   "cell_type": "code",
   "execution_count": 35,
   "id": "initial_id",
   "metadata": {
    "collapsed": true,
    "ExecuteTime": {
     "end_time": "2024-03-02T14:01:57.144381100Z",
     "start_time": "2024-03-02T14:01:57.132873400Z"
    }
   },
   "outputs": [],
   "source": [
    "months_pl = ['Styczeń', 'Luty', 'Marzec', 'Kwiecień', 'Maj', 'Czerwiec', 'Lipiec', 'Sierpień', 'Wrzesień', 'Październik', 'Listopad', 'Grudzień']\n",
    "calendar_pl = {x+1:y for x, y in enumerate(months_pl)}"
   ]
  },
  {
   "cell_type": "code",
   "outputs": [
    {
     "name": "stdout",
     "output_type": "stream",
     "text": [
      "{1: 'Styczeń', 2: 'Luty', 3: 'Marzec', 4: 'Kwiecień', 5: 'Maj', 6: 'Czerwiec', 7: 'Lipiec', 8: 'Sierpień', 9: 'Wrzesień', 10: 'Październik', 11: 'Listopad', 12: 'Grudzień'}\n"
     ]
    }
   ],
   "source": [
    "print(calendar_pl)"
   ],
   "metadata": {
    "collapsed": false,
    "ExecuteTime": {
     "end_time": "2024-03-02T14:01:57.168875800Z",
     "start_time": "2024-03-02T14:01:57.148376800Z"
    }
   },
   "id": "c1f83186422abef5",
   "execution_count": 36
  },
  {
   "cell_type": "markdown",
   "source": [
    "## task_05"
   ],
   "metadata": {
    "collapsed": false
   },
   "id": "a66f83f7d5936787"
  },
  {
   "cell_type": "code",
   "outputs": [],
   "source": [
    "months_en = ['January', 'February', 'March', 'April', 'May', 'June', 'July', 'August', 'September', 'October', 'November', 'December']\n",
    "calendar_en = {x+1:y for x, y in enumerate(months_en)}"
   ],
   "metadata": {
    "collapsed": false,
    "ExecuteTime": {
     "end_time": "2024-03-02T14:01:57.168875800Z",
     "start_time": "2024-03-02T14:01:57.153380700Z"
    }
   },
   "id": "5badaf9d7db04e36",
   "execution_count": 37
  },
  {
   "cell_type": "code",
   "outputs": [
    {
     "name": "stdout",
     "output_type": "stream",
     "text": [
      "{1: 'January', 2: 'February', 3: 'March', 4: 'April', 5: 'May', 6: 'June', 7: 'July', 8: 'August', 9: 'September', 10: 'October', 11: 'November', 12: 'December'}\n"
     ]
    }
   ],
   "source": [
    "print(calendar_en)"
   ],
   "metadata": {
    "collapsed": false,
    "ExecuteTime": {
     "end_time": "2024-03-02T14:01:57.169382500Z",
     "start_time": "2024-03-02T14:01:57.157374900Z"
    }
   },
   "id": "9872ac869e40fd90",
   "execution_count": 38
  },
  {
   "cell_type": "code",
   "outputs": [],
   "source": [
    "months = {'en':calendar_en, 'pl':calendar_pl}  "
   ],
   "metadata": {
    "collapsed": false,
    "ExecuteTime": {
     "end_time": "2024-03-02T14:01:57.200875400Z",
     "start_time": "2024-03-02T14:01:57.172542600Z"
    }
   },
   "id": "674e8a8e093a3d32",
   "execution_count": 39
  },
  {
   "cell_type": "code",
   "outputs": [
    {
     "name": "stdout",
     "output_type": "stream",
     "text": [
      "{'en': {1: 'January', 2: 'February', 3: 'March', 4: 'April', 5: 'May', 6: 'June', 7: 'July', 8: 'August', 9: 'September', 10: 'October', 11: 'November', 12: 'December'}, 'pl': {1: 'Styczeń', 2: 'Luty', 3: 'Marzec', 4: 'Kwiecień', 5: 'Maj', 6: 'Czerwiec', 7: 'Lipiec', 8: 'Sierpień', 9: 'Wrzesień', 10: 'Październik', 11: 'Listopad', 12: 'Grudzień'}}\n"
     ]
    }
   ],
   "source": [
    "print(months)"
   ],
   "metadata": {
    "collapsed": false,
    "ExecuteTime": {
     "end_time": "2024-03-02T14:01:57.201375400Z",
     "start_time": "2024-03-02T14:01:57.176374Z"
    }
   },
   "id": "1511f0e8ff564de9",
   "execution_count": 40
  },
  {
   "cell_type": "code",
   "outputs": [
    {
     "name": "stdout",
     "output_type": "stream",
     "text": [
      "Kwiecień\n"
     ]
    }
   ],
   "source": [
    "print(months['pl'][4])"
   ],
   "metadata": {
    "collapsed": false,
    "ExecuteTime": {
     "end_time": "2024-03-02T14:01:57.223374100Z",
     "start_time": "2024-03-02T14:01:57.203874500Z"
    }
   },
   "id": "a1a042e7d544b19d",
   "execution_count": 41
  },
  {
   "cell_type": "code",
   "outputs": [
    {
     "name": "stdout",
     "output_type": "stream",
     "text": [
      "April\n"
     ]
    }
   ],
   "source": [
    "print(months['en'][4])"
   ],
   "metadata": {
    "collapsed": false,
    "ExecuteTime": {
     "end_time": "2024-03-02T14:01:57.243881400Z",
     "start_time": "2024-03-02T14:01:57.226877100Z"
    }
   },
   "id": "3793ca4650c55928",
   "execution_count": 42
  }
 ],
 "metadata": {
  "kernelspec": {
   "display_name": "Python 3",
   "language": "python",
   "name": "python3"
  },
  "language_info": {
   "codemirror_mode": {
    "name": "ipython",
    "version": 2
   },
   "file_extension": ".py",
   "mimetype": "text/x-python",
   "name": "python",
   "nbconvert_exporter": "python",
   "pygments_lexer": "ipython2",
   "version": "2.7.6"
  }
 },
 "nbformat": 4,
 "nbformat_minor": 5
}
