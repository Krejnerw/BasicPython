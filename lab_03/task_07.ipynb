{
 "cells": [
  {
   "cell_type": "code",
   "execution_count": 37,
   "id": "initial_id",
   "metadata": {
    "collapsed": true,
    "ExecuteTime": {
     "end_time": "2024-03-02T14:26:59.251615900Z",
     "start_time": "2024-03-02T14:26:55.128630900Z"
    }
   },
   "outputs": [],
   "source": [
    "import string\n",
    "\n",
    "sentence = input(\"Enter a sentence: \").lower()"
   ]
  },
  {
   "cell_type": "code",
   "outputs": [],
   "source": [
    "statistics = {'length': len(sentence), 'letters':0, 'numbers':0}"
   ],
   "metadata": {
    "collapsed": false,
    "ExecuteTime": {
     "end_time": "2024-03-02T14:26:59.253113200Z",
     "start_time": "2024-03-02T14:26:59.238612100Z"
    }
   },
   "id": "4c6cfb259dd8b757",
   "execution_count": 38
  },
  {
   "cell_type": "code",
   "outputs": [],
   "source": [
    "for i in sentence:\n",
    "    if i in string.ascii_lowercase:\n",
    "        statistics[\"letters\"] += 1\n",
    "    if i in string.digits:\n",
    "        statistics[\"numbers\"] += 1"
   ],
   "metadata": {
    "collapsed": false,
    "ExecuteTime": {
     "end_time": "2024-03-02T14:26:59.253113200Z",
     "start_time": "2024-03-02T14:26:59.246114100Z"
    }
   },
   "id": "34a34729347bb737",
   "execution_count": 39
  },
  {
   "cell_type": "code",
   "outputs": [
    {
     "name": "stdout",
     "output_type": "stream",
     "text": [
      "fghfhjg\n",
      "Sentence length is 7\n",
      "There are 0 numbers - 0.00%\n",
      "There are 7 letters - 100.00%\n"
     ]
    }
   ],
   "source": [
    "print(sentence)\n",
    "print(f\"Sentence length is {statistics['length']}\")\n",
    "print(f\"There are {statistics['numbers']} numbers - {statistics['numbers']/statistics['length']*100:.2f}%\")\n",
    "print(f\"There are {statistics['letters']} letters - {statistics['letters']/statistics['length']*100:.2f}%\")"
   ],
   "metadata": {
    "collapsed": false,
    "ExecuteTime": {
     "end_time": "2024-03-02T14:26:59.264111Z",
     "start_time": "2024-03-02T14:26:59.258612900Z"
    }
   },
   "id": "ffe7b5fe4af9c418",
   "execution_count": 40
  }
 ],
 "metadata": {
  "kernelspec": {
   "display_name": "Python 3",
   "language": "python",
   "name": "python3"
  },
  "language_info": {
   "codemirror_mode": {
    "name": "ipython",
    "version": 2
   },
   "file_extension": ".py",
   "mimetype": "text/x-python",
   "name": "python",
   "nbconvert_exporter": "python",
   "pygments_lexer": "ipython2",
   "version": "2.7.6"
  }
 },
 "nbformat": 4,
 "nbformat_minor": 5
}
