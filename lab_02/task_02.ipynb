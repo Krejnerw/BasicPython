{
 "cells": [
  {
   "cell_type": "code",
   "execution_count": 1,
   "id": "initial_id",
   "metadata": {
    "collapsed": true,
    "ExecuteTime": {
     "end_time": "2024-03-02T12:45:35.236180900Z",
     "start_time": "2024-03-02T12:45:29.296788800Z"
    }
   },
   "outputs": [],
   "source": [
    "sentence = input(\"Please enter a sentence: \")\n",
    "sentence.strip()\n",
    "sentence_size = len(sentence)\n",
    "half_1 = sentence_size//2\n",
    "half_2 = sentence_size - half_1\n",
    "sent_h1 = sentence[:half_1]\n",
    "sent_h2 = sentence[half_2:]"
   ]
  },
  {
   "cell_type": "code",
   "outputs": [
    {
     "data": {
      "text/plain": "20"
     },
     "execution_count": 2,
     "metadata": {},
     "output_type": "execute_result"
    }
   ],
   "source": [
    "half_1"
   ],
   "metadata": {
    "collapsed": false,
    "ExecuteTime": {
     "end_time": "2024-03-02T12:45:35.237682100Z",
     "start_time": "2024-03-02T12:45:35.229678300Z"
    }
   },
   "id": "de9a8fd1d16d8297",
   "execution_count": 2
  },
  {
   "cell_type": "code",
   "outputs": [
    {
     "data": {
      "text/plain": "21"
     },
     "execution_count": 3,
     "metadata": {},
     "output_type": "execute_result"
    }
   ],
   "source": [
    "half_2"
   ],
   "metadata": {
    "collapsed": false,
    "ExecuteTime": {
     "end_time": "2024-03-02T12:45:35.245177600Z",
     "start_time": "2024-03-02T12:45:35.237179500Z"
    }
   },
   "id": "c903ad66865242e1",
   "execution_count": 3
  },
  {
   "cell_type": "code",
   "outputs": [
    {
     "data": {
      "text/plain": "'bczjfUSDEhfdmf fsdih'"
     },
     "execution_count": 4,
     "metadata": {},
     "output_type": "execute_result"
    }
   ],
   "source": [
    "sent_h1"
   ],
   "metadata": {
    "collapsed": false,
    "ExecuteTime": {
     "end_time": "2024-03-02T12:45:35.249678400Z",
     "start_time": "2024-03-02T12:45:35.243679100Z"
    }
   },
   "id": "938bec048a9a2779",
   "execution_count": 4
  },
  {
   "cell_type": "code",
   "outputs": [
    {
     "data": {
      "text/plain": "'DJ fdjsoiufjdpfj[DSF'"
     },
     "execution_count": 5,
     "metadata": {},
     "output_type": "execute_result"
    }
   ],
   "source": [
    "sent_h2"
   ],
   "metadata": {
    "collapsed": false,
    "ExecuteTime": {
     "end_time": "2024-03-02T12:45:35.258176800Z",
     "start_time": "2024-03-02T12:45:35.249180200Z"
    }
   },
   "id": "df8d0032272ce2f6",
   "execution_count": 5
  },
  {
   "cell_type": "code",
   "outputs": [
    {
     "data": {
      "text/plain": "'FDjpjuojfJfis mfESfzb'"
     },
     "execution_count": 6,
     "metadata": {},
     "output_type": "execute_result"
    }
   ],
   "source": [
    "sentence[::-2]"
   ],
   "metadata": {
    "collapsed": false,
    "ExecuteTime": {
     "end_time": "2024-03-02T12:45:35.302676500Z",
     "start_time": "2024-03-02T12:45:35.255182400Z"
    }
   },
   "id": "92a0069f4d9827c0",
   "execution_count": 6
  }
 ],
 "metadata": {
  "kernelspec": {
   "display_name": "Python 3",
   "language": "python",
   "name": "python3"
  },
  "language_info": {
   "codemirror_mode": {
    "name": "ipython",
    "version": 2
   },
   "file_extension": ".py",
   "mimetype": "text/x-python",
   "name": "python",
   "nbconvert_exporter": "python",
   "pygments_lexer": "ipython2",
   "version": "2.7.6"
  }
 },
 "nbformat": 4,
 "nbformat_minor": 5
}
