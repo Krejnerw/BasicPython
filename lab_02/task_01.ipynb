{
 "cells": [
  {
   "cell_type": "code",
   "execution_count": 1,
   "id": "initial_id",
   "metadata": {
    "collapsed": true,
    "ExecuteTime": {
     "end_time": "2024-03-02T12:45:21.001817Z",
     "start_time": "2024-03-02T12:45:09.038265200Z"
    }
   },
   "outputs": [],
   "source": [
    "sentence = input(\"Please enter a sentence with separators like space, semicolon or similar: \")\n",
    "src_separator = input(\"Please enter source separator: \")\n",
    "dsc_separator = input(\"Please enter destined separator: \")"
   ]
  },
  {
   "cell_type": "code",
   "outputs": [],
   "source": [
    "sentence = sentence.strip()\n",
    "split_sentence = sentence.split(src_separator)\n",
    "new_sep_sentence = dsc_separator.join(split_sentence)"
   ],
   "metadata": {
    "collapsed": false,
    "ExecuteTime": {
     "end_time": "2024-03-02T12:45:21.001817Z",
     "start_time": "2024-03-02T12:45:20.997383Z"
    }
   },
   "id": "d4692909fe9c73fa",
   "execution_count": 2
  },
  {
   "cell_type": "code",
   "outputs": [
    {
     "data": {
      "text/plain": "'FDSFDs fsdSDF DSfSf'"
     },
     "execution_count": 3,
     "metadata": {},
     "output_type": "execute_result"
    }
   ],
   "source": [
    "new_sep_sentence"
   ],
   "metadata": {
    "collapsed": false,
    "ExecuteTime": {
     "end_time": "2024-03-02T12:45:21.009315Z",
     "start_time": "2024-03-02T12:45:21.001318100Z"
    }
   },
   "id": "ce317ff7ea6a72b0",
   "execution_count": 3
  },
  {
   "cell_type": "markdown",
   "source": [
    "# Czy można to zrobić prościej wykorzystując wbudowane metody?"
   ],
   "metadata": {
    "collapsed": false
   },
   "id": "3012ac649256d7bc"
  },
  {
   "cell_type": "code",
   "outputs": [],
   "source": [
    "replaced_sentence = sentence.replace(src_separator, dsc_separator)"
   ],
   "metadata": {
    "collapsed": false,
    "ExecuteTime": {
     "end_time": "2024-03-02T12:45:21.014316300Z",
     "start_time": "2024-03-02T12:45:21.010317Z"
    }
   },
   "id": "53f07eabc0966d7c",
   "execution_count": 4
  },
  {
   "cell_type": "code",
   "outputs": [
    {
     "data": {
      "text/plain": "'FDSFDs fsdSDF DSfSf'"
     },
     "execution_count": 5,
     "metadata": {},
     "output_type": "execute_result"
    }
   ],
   "source": [
    "replaced_sentence"
   ],
   "metadata": {
    "collapsed": false,
    "ExecuteTime": {
     "end_time": "2024-03-02T12:45:21.020316400Z",
     "start_time": "2024-03-02T12:45:21.014816200Z"
    }
   },
   "id": "34b73f0a4772d04b",
   "execution_count": 5
  }
 ],
 "metadata": {
  "kernelspec": {
   "display_name": "Python 3",
   "language": "python",
   "name": "python3"
  },
  "language_info": {
   "codemirror_mode": {
    "name": "ipython",
    "version": 2
   },
   "file_extension": ".py",
   "mimetype": "text/x-python",
   "name": "python",
   "nbconvert_exporter": "python",
   "pygments_lexer": "ipython2",
   "version": "2.7.6"
  }
 },
 "nbformat": 4,
 "nbformat_minor": 5
}
