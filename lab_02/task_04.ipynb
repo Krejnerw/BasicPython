{
 "cells": [
  {
   "cell_type": "code",
   "execution_count": 10,
   "id": "initial_id",
   "metadata": {
    "collapsed": true,
    "ExecuteTime": {
     "end_time": "2024-03-02T12:46:24.867648400Z",
     "start_time": "2024-03-02T12:46:17.478662500Z"
    }
   },
   "outputs": [],
   "source": [
    "sentence = input(\"Please enter a sentence: \")"
   ]
  },
  {
   "cell_type": "code",
   "outputs": [
    {
     "name": "stdout",
     "output_type": "stream",
     "text": [
      "Sentence some sentence isdecimal: False\n",
      "Sentence some sentence isascii: True\n",
      "Sentence some sentence isprintable: True\n",
      "Sentence some sentence istitle: False\n",
      "Sentence some sentence isupper: False\n"
     ]
    }
   ],
   "source": [
    "print(f\"Sentence {sentence} isdecimal: {sentence.isdecimal()}\")\n",
    "print(f\"Sentence {sentence} isascii: {sentence.isascii()}\")\n",
    "print(f\"Sentence {sentence} isprintable: {sentence.isprintable()}\")\n",
    "print(f\"Sentence {sentence} istitle: {sentence.istitle()}\")\n",
    "print(f\"Sentence {sentence} isupper: {sentence.isupper()}\")"
   ],
   "metadata": {
    "collapsed": false,
    "ExecuteTime": {
     "end_time": "2024-03-02T12:46:24.868645800Z",
     "start_time": "2024-03-02T12:46:24.852650Z"
    }
   },
   "id": "9a039938cc38f945",
   "execution_count": 11
  },
  {
   "cell_type": "code",
   "outputs": [],
   "source": [],
   "metadata": {
    "collapsed": false,
    "ExecuteTime": {
     "end_time": "2024-03-02T12:46:24.868645800Z",
     "start_time": "2024-03-02T12:46:24.857646Z"
    }
   },
   "id": "87a60c737af08fb2",
   "execution_count": 11
  }
 ],
 "metadata": {
  "kernelspec": {
   "display_name": "Python 3",
   "language": "python",
   "name": "python3"
  },
  "language_info": {
   "codemirror_mode": {
    "name": "ipython",
    "version": 2
   },
   "file_extension": ".py",
   "mimetype": "text/x-python",
   "name": "python",
   "nbconvert_exporter": "python",
   "pygments_lexer": "ipython2",
   "version": "2.7.6"
  }
 },
 "nbformat": 4,
 "nbformat_minor": 5
}
