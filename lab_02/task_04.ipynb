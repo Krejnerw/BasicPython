{
 "cells": [
  {
   "cell_type": "code",
   "execution_count": 5,
   "id": "initial_id",
   "metadata": {
    "collapsed": true,
    "ExecuteTime": {
     "end_time": "2024-03-17T17:49:09.045017100Z",
     "start_time": "2024-03-17T17:49:05.791028600Z"
    }
   },
   "outputs": [],
   "source": [
    "sentence = input(\"Please enter a sentence: \")"
   ]
  },
  {
   "cell_type": "code",
   "outputs": [
    {
     "name": "stdout",
     "output_type": "stream",
     "text": [
      "Sentence 5.1 isdecimal: False\n",
      "Sentence 5.1 isascii: True\n",
      "Sentence 5.1 isprintable: True\n",
      "Sentence 5.1 istitle: False\n",
      "Sentence 5.1 isupper: False\n"
     ]
    }
   ],
   "source": [
    "print(f\"Sentence {sentence} isdecimal: {sentence.isdecimal()}\")\n",
    "print(f\"Sentence {sentence} isascii: {sentence.isascii()}\")\n",
    "print(f\"Sentence {sentence} isprintable: {sentence.isprintable()}\")\n",
    "print(f\"Sentence {sentence} istitle: {sentence.istitle()}\")\n",
    "print(f\"Sentence {sentence} isupper: {sentence.isupper()}\")"
   ],
   "metadata": {
    "collapsed": false,
    "ExecuteTime": {
     "end_time": "2024-03-17T17:49:09.046014Z",
     "start_time": "2024-03-17T17:49:09.029512600Z"
    }
   },
   "id": "9a039938cc38f945",
   "execution_count": 6
  },
  {
   "cell_type": "code",
   "outputs": [],
   "source": [],
   "metadata": {
    "collapsed": false,
    "ExecuteTime": {
     "end_time": "2024-03-17T17:49:09.046513100Z",
     "start_time": "2024-03-17T17:49:09.034514800Z"
    }
   },
   "id": "87a60c737af08fb2",
   "execution_count": 6
  }
 ],
 "metadata": {
  "kernelspec": {
   "display_name": "Python 3",
   "language": "python",
   "name": "python3"
  },
  "language_info": {
   "codemirror_mode": {
    "name": "ipython",
    "version": 2
   },
   "file_extension": ".py",
   "mimetype": "text/x-python",
   "name": "python",
   "nbconvert_exporter": "python",
   "pygments_lexer": "ipython2",
   "version": "2.7.6"
  }
 },
 "nbformat": 4,
 "nbformat_minor": 5
}
