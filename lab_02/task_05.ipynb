{
 "cells": [
  {
   "cell_type": "markdown",
   "source": [
    "# format"
   ],
   "metadata": {
    "collapsed": false
   },
   "id": "9679efea2149a6ea"
  },
  {
   "cell_type": "markdown",
   "source": [
    "https://pyformat.info/"
   ],
   "metadata": {
    "collapsed": false
   },
   "id": "300386a90be401f3"
  },
  {
   "cell_type": "markdown",
   "source": [
    "Padding and aligning strings"
   ],
   "metadata": {
    "collapsed": false
   },
   "id": "9ae77e4213c62f4f"
  },
  {
   "cell_type": "code",
   "execution_count": 75,
   "id": "initial_id",
   "metadata": {
    "collapsed": true,
    "ExecuteTime": {
     "end_time": "2024-03-02T12:46:38.421356700Z",
     "start_time": "2024-03-02T12:46:38.336355300Z"
    }
   },
   "outputs": [
    {
     "data": {
      "text/plain": "'___test___'"
     },
     "execution_count": 75,
     "metadata": {},
     "output_type": "execute_result"
    }
   ],
   "source": [
    "'{:_^10}'.format('test')"
   ]
  },
  {
   "cell_type": "markdown",
   "source": [
    "Truncating long strings"
   ],
   "metadata": {
    "collapsed": false
   },
   "id": "46970c5c66fb813a"
  },
  {
   "cell_type": "code",
   "outputs": [
    {
     "data": {
      "text/plain": "'xylop'"
     },
     "execution_count": 76,
     "metadata": {},
     "output_type": "execute_result"
    }
   ],
   "source": [
    "'{:.5}'.format('xylophone')"
   ],
   "metadata": {
    "collapsed": false,
    "ExecuteTime": {
     "end_time": "2024-03-02T12:46:38.438860200Z",
     "start_time": "2024-03-02T12:46:38.426356100Z"
    }
   },
   "id": "8ea50c19e72240b3",
   "execution_count": 76
  },
  {
   "cell_type": "markdown",
   "source": [
    "Padding numbers"
   ],
   "metadata": {
    "collapsed": false
   },
   "id": "92df07ee43b6de37"
  },
  {
   "cell_type": "code",
   "outputs": [
    {
     "data": {
      "text/plain": "'3.1416'"
     },
     "execution_count": 77,
     "metadata": {},
     "output_type": "execute_result"
    }
   ],
   "source": [
    "'{:06.4f}'.format(3.141592653589793)"
   ],
   "metadata": {
    "collapsed": false,
    "ExecuteTime": {
     "end_time": "2024-03-02T12:46:38.441855800Z",
     "start_time": "2024-03-02T12:46:38.432357600Z"
    }
   },
   "id": "527fa1f38c4b5293",
   "execution_count": 77
  },
  {
   "cell_type": "code",
   "outputs": [
    {
     "data": {
      "text/plain": "'0042'"
     },
     "execution_count": 78,
     "metadata": {},
     "output_type": "execute_result"
    }
   ],
   "source": [
    "'{:04d}'.format(42)"
   ],
   "metadata": {
    "collapsed": false,
    "ExecuteTime": {
     "end_time": "2024-03-02T12:46:38.450863500Z",
     "start_time": "2024-03-02T12:46:38.438860200Z"
    }
   },
   "id": "77bb8b06318a8b2a",
   "execution_count": 78
  },
  {
   "cell_type": "markdown",
   "source": [
    "Named placeholders"
   ],
   "metadata": {
    "collapsed": false
   },
   "id": "35eba66bb0f97e6f"
  },
  {
   "cell_type": "code",
   "outputs": [],
   "source": [
    "data = {'first': 'Hodor', 'last': 'Hodor!'}"
   ],
   "metadata": {
    "collapsed": false,
    "ExecuteTime": {
     "end_time": "2024-03-02T12:46:38.451356200Z",
     "start_time": "2024-03-02T12:46:38.444856Z"
    }
   },
   "id": "d727f42ed5529122",
   "execution_count": 79
  },
  {
   "cell_type": "code",
   "outputs": [
    {
     "data": {
      "text/plain": "'Hodor Hodor!'"
     },
     "execution_count": 80,
     "metadata": {},
     "output_type": "execute_result"
    }
   ],
   "source": [
    "'{first} {last}'.format(**data)"
   ],
   "metadata": {
    "collapsed": false,
    "ExecuteTime": {
     "end_time": "2024-03-02T12:46:38.496862300Z",
     "start_time": "2024-03-02T12:46:38.454355700Z"
    }
   },
   "id": "3630319f0099e0ec",
   "execution_count": 80
  },
  {
   "cell_type": "markdown",
   "source": [
    "Getitem and Getattr"
   ],
   "metadata": {
    "collapsed": false
   },
   "id": "7547c9e9742753b4"
  },
  {
   "cell_type": "code",
   "outputs": [],
   "source": [
    "person = {'first': 'Jean-Luc', 'last': 'Picard'}"
   ],
   "metadata": {
    "collapsed": false,
    "ExecuteTime": {
     "end_time": "2024-03-02T12:46:38.497857500Z",
     "start_time": "2024-03-02T12:46:38.460357100Z"
    }
   },
   "id": "3f0dc72d6d1ddbd3",
   "execution_count": 81
  },
  {
   "cell_type": "code",
   "outputs": [
    {
     "data": {
      "text/plain": "'Jean-Luc Picard'"
     },
     "execution_count": 82,
     "metadata": {},
     "output_type": "execute_result"
    }
   ],
   "source": [
    "'{p[first]} {p[last]}'.format(p=person)"
   ],
   "metadata": {
    "collapsed": false,
    "ExecuteTime": {
     "end_time": "2024-03-02T12:46:38.529855700Z",
     "start_time": "2024-03-02T12:46:38.501858300Z"
    }
   },
   "id": "54731d99fd7d2574",
   "execution_count": 82
  },
  {
   "cell_type": "code",
   "outputs": [],
   "source": [
    "data = [4, 8, 15, 16, 23, 42]"
   ],
   "metadata": {
    "collapsed": false,
    "ExecuteTime": {
     "end_time": "2024-03-02T12:46:38.565862200Z",
     "start_time": "2024-03-02T12:46:38.531355900Z"
    }
   },
   "id": "ed010b703a68d126",
   "execution_count": 83
  },
  {
   "cell_type": "code",
   "outputs": [
    {
     "data": {
      "text/plain": "'23 42'"
     },
     "execution_count": 84,
     "metadata": {},
     "output_type": "execute_result"
    }
   ],
   "source": [
    "'{d[4]} {d[5]}'.format(d=data)"
   ],
   "metadata": {
    "collapsed": false,
    "ExecuteTime": {
     "end_time": "2024-03-02T12:46:38.568857400Z",
     "start_time": "2024-03-02T12:46:38.544857500Z"
    }
   },
   "id": "ecbc18b2e19aeb01",
   "execution_count": 84
  },
  {
   "cell_type": "markdown",
   "source": [
    "Parametrized formats"
   ],
   "metadata": {
    "collapsed": false
   },
   "id": "7ba1d6e5e150336b"
  },
  {
   "cell_type": "code",
   "outputs": [
    {
     "data": {
      "text/plain": "'   test   '"
     },
     "execution_count": 85,
     "metadata": {},
     "output_type": "execute_result"
    }
   ],
   "source": [
    "'{:{align}{width}}'.format('test', align='^', width='10')"
   ],
   "metadata": {
    "collapsed": false,
    "ExecuteTime": {
     "end_time": "2024-03-02T12:46:38.581356700Z",
     "start_time": "2024-03-02T12:46:38.571519300Z"
    }
   },
   "id": "eb545791a2e6f651",
   "execution_count": 85
  },
  {
   "cell_type": "code",
   "outputs": [],
   "source": [
    "from datetime import datetime\n",
    "dt = datetime(2001, 2, 3, 4, 5)"
   ],
   "metadata": {
    "collapsed": false,
    "ExecuteTime": {
     "end_time": "2024-03-02T12:46:38.616355900Z",
     "start_time": "2024-03-02T12:46:38.583919200Z"
    }
   },
   "id": "f91e096ebbb19693",
   "execution_count": 86
  },
  {
   "cell_type": "code",
   "outputs": [
    {
     "data": {
      "text/plain": "'2001-02-03 04:05'"
     },
     "execution_count": 87,
     "metadata": {},
     "output_type": "execute_result"
    }
   ],
   "source": [
    "'{:{dfmt} {tfmt}}'.format(dt, dfmt='%Y-%m-%d', tfmt='%H:%M')"
   ],
   "metadata": {
    "collapsed": false,
    "ExecuteTime": {
     "end_time": "2024-03-02T12:46:38.635855700Z",
     "start_time": "2024-03-02T12:46:38.619359300Z"
    }
   },
   "id": "afb907eb760e65d7",
   "execution_count": 87
  },
  {
   "cell_type": "markdown",
   "source": [
    "# f-string"
   ],
   "metadata": {
    "collapsed": false
   },
   "id": "e4d098a18b8fcbdc"
  },
  {
   "cell_type": "markdown",
   "source": [
    "Padding and aligning strings"
   ],
   "metadata": {
    "collapsed": false
   },
   "id": "7fa68bd67c567762"
  },
  {
   "cell_type": "code",
   "outputs": [
    {
     "data": {
      "text/plain": "'___test___'"
     },
     "execution_count": 88,
     "metadata": {},
     "output_type": "execute_result"
    }
   ],
   "source": [
    "f'{\"test\":_^10}'"
   ],
   "metadata": {
    "collapsed": false,
    "ExecuteTime": {
     "end_time": "2024-03-02T12:46:38.692862600Z",
     "start_time": "2024-03-02T12:46:38.640356200Z"
    }
   },
   "id": "8274f83d33f1b097",
   "execution_count": 88
  },
  {
   "cell_type": "markdown",
   "source": [
    "Truncating long strings"
   ],
   "metadata": {
    "collapsed": false
   },
   "id": "e643c73174ed6047"
  },
  {
   "cell_type": "code",
   "outputs": [
    {
     "data": {
      "text/plain": "'xylop'"
     },
     "execution_count": 89,
     "metadata": {},
     "output_type": "execute_result"
    }
   ],
   "source": [
    "f\"{'xylophone':.5}\""
   ],
   "metadata": {
    "collapsed": false,
    "ExecuteTime": {
     "end_time": "2024-03-02T12:46:38.693854900Z",
     "start_time": "2024-03-02T12:46:38.645856900Z"
    }
   },
   "id": "2d6693ffecfee7aa",
   "execution_count": 89
  },
  {
   "cell_type": "markdown",
   "source": [
    "Padding numbers"
   ],
   "metadata": {
    "collapsed": false
   },
   "id": "361a52c395985800"
  },
  {
   "cell_type": "code",
   "outputs": [
    {
     "data": {
      "text/plain": "'3.1416'"
     },
     "execution_count": 90,
     "metadata": {},
     "output_type": "execute_result"
    }
   ],
   "source": [
    "f\"{3.141592653589793:06.4f}\""
   ],
   "metadata": {
    "collapsed": false,
    "ExecuteTime": {
     "end_time": "2024-03-02T12:46:38.695855300Z",
     "start_time": "2024-03-02T12:46:38.659355500Z"
    }
   },
   "id": "b47c81d0f598356a",
   "execution_count": 90
  },
  {
   "cell_type": "code",
   "outputs": [
    {
     "data": {
      "text/plain": "'0042'"
     },
     "execution_count": 91,
     "metadata": {},
     "output_type": "execute_result"
    }
   ],
   "source": [
    "f\"{42:04d}\""
   ],
   "metadata": {
    "collapsed": false,
    "ExecuteTime": {
     "end_time": "2024-03-02T12:46:38.761359400Z",
     "start_time": "2024-03-02T12:46:38.699856700Z"
    }
   },
   "id": "79cc2fe507cd7588",
   "execution_count": 91
  },
  {
   "cell_type": "markdown",
   "source": [
    "Named placeholders"
   ],
   "metadata": {
    "collapsed": false
   },
   "id": "90b010a40a72a4a2"
  },
  {
   "cell_type": "code",
   "outputs": [],
   "source": [
    "data = {'first': 'Hodor', 'last': 'Hodor!'}"
   ],
   "metadata": {
    "collapsed": false,
    "ExecuteTime": {
     "end_time": "2024-03-02T12:46:38.765357100Z",
     "start_time": "2024-03-02T12:46:38.756855800Z"
    }
   },
   "id": "ae25ca27c730c5aa",
   "execution_count": 92
  },
  {
   "cell_type": "code",
   "outputs": [
    {
     "data": {
      "text/plain": "'Hodor Hodor!'"
     },
     "execution_count": 93,
     "metadata": {},
     "output_type": "execute_result"
    }
   ],
   "source": [
    "f\"{data['first']} {data['last']}\""
   ],
   "metadata": {
    "collapsed": false,
    "ExecuteTime": {
     "end_time": "2024-03-02T12:46:38.777861500Z",
     "start_time": "2024-03-02T12:46:38.768857200Z"
    }
   },
   "id": "7bed8ca23c9e080c",
   "execution_count": 93
  },
  {
   "cell_type": "markdown",
   "source": [
    "Getitem and Getattr"
   ],
   "metadata": {
    "collapsed": false
   },
   "id": "833374ac143b3cc9"
  },
  {
   "cell_type": "code",
   "outputs": [],
   "source": [
    "person = {'first': 'Jean-Luc', 'last': 'Picard'}"
   ],
   "metadata": {
    "collapsed": false,
    "ExecuteTime": {
     "end_time": "2024-03-02T12:46:38.814354800Z",
     "start_time": "2024-03-02T12:46:38.780356200Z"
    }
   },
   "id": "67845019ec17c4c5",
   "execution_count": 94
  },
  {
   "cell_type": "code",
   "outputs": [
    {
     "data": {
      "text/plain": "'Jean-Luc Picard'"
     },
     "execution_count": 95,
     "metadata": {},
     "output_type": "execute_result"
    }
   ],
   "source": [
    "f\"{person['first']} {person['last']}\""
   ],
   "metadata": {
    "collapsed": false,
    "ExecuteTime": {
     "end_time": "2024-03-02T12:46:38.815472900Z",
     "start_time": "2024-03-02T12:46:38.785856100Z"
    }
   },
   "id": "4e4526f03d12712e",
   "execution_count": 95
  },
  {
   "cell_type": "markdown",
   "source": [
    "Parametrized formats"
   ],
   "metadata": {
    "collapsed": false
   },
   "id": "106d6e54affe9799"
  },
  {
   "cell_type": "code",
   "outputs": [
    {
     "data": {
      "text/plain": "'   test   '"
     },
     "execution_count": 96,
     "metadata": {},
     "output_type": "execute_result"
    }
   ],
   "source": [
    "f'{\"test\":^10}'"
   ],
   "metadata": {
    "collapsed": false,
    "ExecuteTime": {
     "end_time": "2024-03-02T12:46:38.847358100Z",
     "start_time": "2024-03-02T12:46:38.818355200Z"
    }
   },
   "id": "1ce2c94b9616abaa",
   "execution_count": 96
  },
  {
   "cell_type": "code",
   "outputs": [],
   "source": [
    "from datetime import datetime\n",
    "dt = datetime(2001, 2, 3, 4, 5)"
   ],
   "metadata": {
    "collapsed": false,
    "ExecuteTime": {
     "end_time": "2024-03-02T12:46:38.871858200Z",
     "start_time": "2024-03-02T12:46:38.850855700Z"
    }
   },
   "id": "a8a39aad721dbce0",
   "execution_count": 97
  },
  {
   "cell_type": "code",
   "outputs": [
    {
     "data": {
      "text/plain": "'2001-02-03 04:05'"
     },
     "execution_count": 98,
     "metadata": {},
     "output_type": "execute_result"
    }
   ],
   "source": [
    "f\"{dt:%Y-%m-%d} {dt:%H:%M}\""
   ],
   "metadata": {
    "collapsed": false,
    "ExecuteTime": {
     "end_time": "2024-03-02T12:46:38.882862200Z",
     "start_time": "2024-03-02T12:46:38.875355900Z"
    }
   },
   "id": "5685b25f5460d1f9",
   "execution_count": 98
  }
 ],
 "metadata": {
  "kernelspec": {
   "display_name": "Python 3",
   "language": "python",
   "name": "python3"
  },
  "language_info": {
   "codemirror_mode": {
    "name": "ipython",
    "version": 2
   },
   "file_extension": ".py",
   "mimetype": "text/x-python",
   "name": "python",
   "nbconvert_exporter": "python",
   "pygments_lexer": "ipython2",
   "version": "2.7.6"
  }
 },
 "nbformat": 4,
 "nbformat_minor": 5
}
