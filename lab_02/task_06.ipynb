{
 "cells": [
  {
   "cell_type": "code",
   "execution_count": 22,
   "id": "initial_id",
   "metadata": {
    "collapsed": true,
    "ExecuteTime": {
     "end_time": "2024-03-02T12:46:49.834812800Z",
     "start_time": "2024-03-02T12:46:49.829810Z"
    }
   },
   "outputs": [
    {
     "name": "stdout",
     "output_type": "stream",
     "text": [
      "¾\n"
     ]
    }
   ],
   "source": [
    "print(\"\\u00BE\")"
   ]
  },
  {
   "cell_type": "code",
   "outputs": [
    {
     "name": "stdout",
     "output_type": "stream",
     "text": [
      "æ\n"
     ]
    }
   ],
   "source": [
    "print(\"\\u00E6\")"
   ],
   "metadata": {
    "collapsed": false,
    "ExecuteTime": {
     "end_time": "2024-03-02T12:46:49.837315500Z",
     "start_time": "2024-03-02T12:46:49.834368600Z"
    }
   },
   "id": "751137533ce815a8",
   "execution_count": 23
  },
  {
   "cell_type": "code",
   "outputs": [
    {
     "name": "stdout",
     "output_type": "stream",
     "text": [
      "Ⱥ\n"
     ]
    }
   ],
   "source": [
    "print(\"\\u023A\")"
   ],
   "metadata": {
    "collapsed": false,
    "ExecuteTime": {
     "end_time": "2024-03-02T12:46:49.849311300Z",
     "start_time": "2024-03-02T12:46:49.837815700Z"
    }
   },
   "id": "98b1f1fd18aa07a0",
   "execution_count": 24
  },
  {
   "cell_type": "code",
   "outputs": [
    {
     "name": "stdout",
     "output_type": "stream",
     "text": [
      "Ǣ\n"
     ]
    }
   ],
   "source": [
    "print(\"\\u01E2\")"
   ],
   "metadata": {
    "collapsed": false,
    "ExecuteTime": {
     "end_time": "2024-03-02T12:46:49.881810500Z",
     "start_time": "2024-03-02T12:46:49.844310600Z"
    }
   },
   "id": "800fd8a23af22b68",
   "execution_count": 25
  },
  {
   "cell_type": "code",
   "outputs": [
    {
     "name": "stdout",
     "output_type": "stream",
     "text": [
      "ɷ\n"
     ]
    }
   ],
   "source": [
    "print(\"\\u0277\")"
   ],
   "metadata": {
    "collapsed": false,
    "ExecuteTime": {
     "end_time": "2024-03-02T12:46:49.882311300Z",
     "start_time": "2024-03-02T12:46:49.850813Z"
    }
   },
   "id": "9ffe9e8cf7876901",
   "execution_count": 26
  },
  {
   "cell_type": "code",
   "outputs": [
    {
     "name": "stdout",
     "output_type": "stream",
     "text": [
      "Ж\n"
     ]
    }
   ],
   "source": [
    "print(\"\\u0416\")"
   ],
   "metadata": {
    "collapsed": false,
    "ExecuteTime": {
     "end_time": "2024-03-02T12:46:49.882311300Z",
     "start_time": "2024-03-02T12:46:49.855310500Z"
    }
   },
   "id": "4aff61fe932e10c4",
   "execution_count": 27
  },
  {
   "cell_type": "code",
   "outputs": [
    {
     "name": "stdout",
     "output_type": "stream",
     "text": [
      "Ѿ\n"
     ]
    }
   ],
   "source": [
    "print(\"\\u047E\")"
   ],
   "metadata": {
    "collapsed": false,
    "ExecuteTime": {
     "end_time": "2024-03-02T12:46:49.882811Z",
     "start_time": "2024-03-02T12:46:49.859908100Z"
    }
   },
   "id": "7137baa633e84e44",
   "execution_count": 28
  },
  {
   "cell_type": "code",
   "outputs": [
    {
     "name": "stdout",
     "output_type": "stream",
     "text": [
      "֍\n"
     ]
    }
   ],
   "source": [
    "print(\"\\u058D\")"
   ],
   "metadata": {
    "collapsed": false,
    "ExecuteTime": {
     "end_time": "2024-03-02T12:46:49.882811Z",
     "start_time": "2024-03-02T12:46:49.862813500Z"
    }
   },
   "id": "3ba9fa23c0199816",
   "execution_count": 29
  },
  {
   "cell_type": "code",
   "outputs": [
    {
     "name": "stdout",
     "output_type": "stream",
     "text": [
      "☠\n"
     ]
    }
   ],
   "source": [
    "print(\"\\u2620\")"
   ],
   "metadata": {
    "collapsed": false,
    "ExecuteTime": {
     "end_time": "2024-03-02T12:46:49.936316800Z",
     "start_time": "2024-03-02T12:46:49.868813300Z"
    }
   },
   "id": "f6f02cea33cac8ec",
   "execution_count": 30
  },
  {
   "cell_type": "code",
   "outputs": [
    {
     "name": "stdout",
     "output_type": "stream",
     "text": [
      "☻\n"
     ]
    }
   ],
   "source": [
    "print(\"\\u263B\")"
   ],
   "metadata": {
    "collapsed": false,
    "ExecuteTime": {
     "end_time": "2024-03-02T12:46:49.936810800Z",
     "start_time": "2024-03-02T12:46:49.873387500Z"
    }
   },
   "id": "f49aafb4dd677fdd",
   "execution_count": 31
  }
 ],
 "metadata": {
  "kernelspec": {
   "display_name": "Python 3",
   "language": "python",
   "name": "python3"
  },
  "language_info": {
   "codemirror_mode": {
    "name": "ipython",
    "version": 2
   },
   "file_extension": ".py",
   "mimetype": "text/x-python",
   "name": "python",
   "nbconvert_exporter": "python",
   "pygments_lexer": "ipython2",
   "version": "2.7.6"
  }
 },
 "nbformat": 4,
 "nbformat_minor": 5
}
