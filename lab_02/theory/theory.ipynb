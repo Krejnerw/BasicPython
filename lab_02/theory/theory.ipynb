{
 "cells": [
  {
   "cell_type": "markdown",
   "source": [
    "1. Typ łańcuchowy w Pythonie i klasa str. Omówienie wybranych aspektów.\n",
    "Dokumentacja: https://docs.python.org/3.11/library/stdtypes.html#str\n",
    "Typ łańcuchowy jest chyba najbardziej powszechnym typem danych nie tylko w języku Python. Dane pobierane z plików, bez względu na ich postać są pierwotnie zapisane jako łańcuch znaków, a następnie mogą być skonwertowane na inny typ, np. numeryczny. Zapisanie danych do pliku wyjściowego również wymaga często ich rzutowania (zamiany typu) na typ str.\n",
    "\n",
    "W etapie przygotowania i oczyszczania danych (ang. data cleaning, data mangling) bardzo często praca polega na wykorzystaniu metod i technik pracy z łańcuchami znaków."
   ],
   "metadata": {
    "collapsed": false
   },
   "id": "8c213a7b263002e9"
  },
  {
   "cell_type": "markdown",
   "source": [
    "1.1 Wybrane własności klasy str.\n",
    "Klasa str zapewnia konstruktor, który zwraca postać łańcuchową przekazanego obiektu. Każdy obiekt w Pythonie posiada taką postać, chociaż czasem to co uzyskamy na wyjściu nie zawsze jest pomocne. Dzieje się to z powodu dziedziczenia innych obiektów po klasie object, która dostarcza między innymi magicznej metody __str__().\n",
    "\n",
    "Osoby zainteresowane zgłębianiem kodu źródłowego implementacji CPython odsyłam do: https://github.com/python/cpython\n",
    "\n",
    "Technicznie przy wywołaniu str(obiekt) wywoływana jest metoda __str__() dla danego typu obiektu, a jeżeli tam nie została ona zaimplementowana to poprzez mechanizm dziedziczenia będzie kaskadowo poszukiwana metoda __str__() obiektu rodzica, aż do abstrakcyjnej ogólnej klasy object."
   ],
   "metadata": {
    "collapsed": false
   },
   "id": "b066fdf764eb7747"
  },
  {
   "cell_type": "markdown",
   "source": [
    "Listing 1"
   ],
   "metadata": {
    "collapsed": false
   },
   "id": "ace6fd80d4c677ac"
  },
  {
   "cell_type": "code",
   "outputs": [],
   "source": [
    "# deklaracja typu str poprzez literał\n",
    "artykul = \"\"\"Recenzja \"Władcy Pierścieni\".\"\"\"\n",
    "imie = 'Jan'\n",
    "hobby = \"piłka nożna\""
   ],
   "metadata": {
    "collapsed": false
   },
   "id": "f096aa26702125fb"
  },
  {
   "cell_type": "code",
   "outputs": [],
   "source": [
    "# deklaracja typu str poprzez wykorzystanie konstruktora\n",
    "lista_string = str(list[1, 2, 3])\n",
    "int_string = str(5)"
   ],
   "metadata": {
    "collapsed": false
   },
   "id": "56fce19cce3e06d"
  },
  {
   "cell_type": "markdown",
   "source": [
    "Powyższy fragment to tylko przykład różnych metod deklaracji, w trakcie zajęć będą stosowane apostrofy."
   ],
   "metadata": {
    "collapsed": false
   },
   "id": "5d09e39868915380"
  },
  {
   "cell_type": "markdown",
   "source": [
    "Listing 2"
   ],
   "metadata": {
    "collapsed": false
   },
   "id": "20fde83b559cfad1"
  },
  {
   "cell_type": "code",
   "outputs": [],
   "source": [
    "# czy będzie jakaś różnica w oknie konsoli ?\n",
    "print(str(5))\n",
    "print(5)\n",
    "print(int(5))\n",
    "print(int(5).__str__())"
   ],
   "metadata": {
    "collapsed": false
   },
   "id": "370b41171c0d15c"
  },
  {
   "cell_type": "markdown",
   "source": [
    "Poniżej przedstawiony zostanie fragment kodu, a którym wykorzystane zostanie kilka wybranych metod dla klasy str. Dla pełnej listy odsyłam do oficjalnej dokumentacji."
   ],
   "metadata": {
    "collapsed": false
   },
   "id": "4b296491422c95b1"
  },
  {
   "cell_type": "markdown",
   "source": [
    "Listing 3"
   ],
   "metadata": {
    "collapsed": false
   },
   "id": "5108c248d4457abb"
  },
  {
   "cell_type": "code",
   "outputs": [],
   "source": [
    "# 1. wczytujemy dane ze standardowego wejścia (tu przechwytujemy wejście z klawiatury w oknie konsoli)\n",
    "sentence = input('Wpisz dowolne zdanie:\\n')\n",
    "# dane przechowywane są w postaci zmiennej typu str\n",
    "\n",
    "# 2 - możemy usunąć ewentualne białe znaki na początku i końcu łańcucha.\n",
    "sentence = sentence.strip()\n",
    "# można ograniczyć się tylko do początku lub końca łańcucha używając odpowiednio metod\n",
    "# lstrip() i rstrip()\n",
    "\n",
    "# 3 - Jedną z metod jest metoda split, która dzieli łańcuch na części, a każda z nich jest\n",
    "# zapisywana do listy w postaci łańcucha znaków bez uwzględnienia znaku separatora.\n",
    "# Łańcuch zostanie podzielony i zliczone zostaną słowa (zakładają, że spacje jest separatorem)\n",
    "words = sentence.split(' ')\n",
    "\n",
    "\"\"\"\n",
    "Można pominąć ' ' w tym przypadku i efekt będzie taki sam, ale to nie oznacza, że domyślnie\n",
    "jest to po prostu spacja. \n",
    "Za dokumentacją:\n",
    "If sep is not specified or is None, a different splitting algorithm is applied: runs of consecutive whitespace are regarded as a single separator, and the result will contain no empty strings at the start or end if the string has leading or trailing whitespace. Consequently, splitting an empty string or a string consisting of just whitespace with a None separator returns [].\n",
    "\"\"\"\n",
    "\n",
    "print('W podanym zdaniu jest ', len(words), ' słów.')\n",
    "\n",
    "# 4 - możemy również sprawdzić, czy zdanie rozpoczyna się wielką literą\n",
    "print('Czy zdanie rozpoczyna się wielką literą? -> ', words[0].istitle())\n",
    "\n",
    "# 5 - lub czy zdanie rozpoczyna się znakiem alfabetycznym\n",
    "print('Czy zdanie rozpoczyna się od litery? -> ',sentence[0].isalpha())\n",
    "\n",
    "# 6 - teraz wczytamy inne wejście - oczekujemy podania liczby\n",
    "num = input('Wpisz dowolną liczbę:\\n')\n",
    "\n",
    "print('Czy liczba jest liczbą całkowitą? -> ', num.isdigit())\n",
    "\n",
    "# 7 - jak wprowadzone zostaną instrukcje warunkowe i pętle to będzie łatwiej :)\n",
    "# sprawdzimy, czy wartość była podana jako docelowy float (separator . )\n",
    "print('Czy liczba jest liczbą zmiennoprzecinkową? -> ', num.replace('.','',1).isdigit())\n",
    "\n",
    "# 8 - dopełnimy liczbę poprzedzającymi zerami do 5 pozycji\n",
    "# aktualnie zadziała tylko dla liczby całkowitej\n",
    "print(num.zfill(5))"
   ],
   "metadata": {
    "collapsed": false
   },
   "id": "ec6bdf88054f45a0"
  },
  {
   "cell_type": "markdown",
   "source": [
    "Ciąg tekstowy w Pythonie to tablica znaków co daje z miejsca wiele możliwości manipulacji i dostępu do składowych tego ciągu. Inna ważna cecha stringów to fakt, że po ich zadeklarowaniu nie możemy zmienić zadeklarowanych znaków ciągu, gdyż zmienne typu string są niemutowalne (ang. immutable). Oczywiście możemy nadpisać zmienną nową wartością, czyli zmienić wartość przez przypisanie."
   ],
   "metadata": {
    "collapsed": false
   },
   "id": "8eac133d54c54c56"
  },
  {
   "cell_type": "markdown",
   "source": [
    "Listing 4"
   ],
   "metadata": {
    "collapsed": false
   },
   "id": "351f5622a785fe1d"
  },
  {
   "cell_type": "code",
   "outputs": [],
   "source": [
    "imie = 'Kowalski'\n",
    "nazwisko = 'Jan'"
   ],
   "metadata": {
    "collapsed": false,
    "ExecuteTime": {
     "end_time": "2024-03-01T14:49:14.119244600Z",
     "start_time": "2024-03-01T14:49:14.113735100Z"
    }
   },
   "id": "116c4bf4d9c56224",
   "execution_count": 2
  },
  {
   "cell_type": "code",
   "outputs": [
    {
     "name": "stdout",
     "output_type": "stream",
     "text": [
      "K\n"
     ]
    }
   ],
   "source": [
    "# string to tablica znaków więc możemy odwołać się do jej elementów\n",
    "print(imie[0])"
   ],
   "metadata": {
    "collapsed": false,
    "ExecuteTime": {
     "end_time": "2024-03-01T14:49:14.836917900Z",
     "start_time": "2024-03-01T14:49:14.829459500Z"
    }
   },
   "id": "644d1792ee98975d",
   "execution_count": 3
  },
  {
   "cell_type": "code",
   "outputs": [
    {
     "name": "stdout",
     "output_type": "stream",
     "text": [
      "i\n"
     ]
    }
   ],
   "source": [
    "# indeks elementu możemy również określać jako pozycja od końca ciągu\n",
    "print(imie[-1])"
   ],
   "metadata": {
    "collapsed": false,
    "ExecuteTime": {
     "end_time": "2024-03-01T14:49:16.165590100Z",
     "start_time": "2024-03-01T14:49:16.160827300Z"
    }
   },
   "id": "2b5712f75c1b32cc",
   "execution_count": 4
  },
  {
   "cell_type": "code",
   "outputs": [
    {
     "name": "stdout",
     "output_type": "stream",
     "text": [
      "Kkls\n"
     ]
    }
   ],
   "source": [
    "# można również pobrać fragment ciągu (slice) określając jako indeks\n",
    "# element początkowy i końcowy. Zwróć uwagę na wartość tych indeksów.\n",
    "print(imie[0] + imie[-2] + imie[4:6])"
   ],
   "metadata": {
    "collapsed": false,
    "ExecuteTime": {
     "end_time": "2024-03-01T14:49:20.440693Z",
     "start_time": "2024-03-01T14:49:20.424686100Z"
    }
   },
   "id": "188b6e36bdac0a0f",
   "execution_count": 5
  },
  {
   "cell_type": "code",
   "outputs": [
    {
     "name": "stdout",
     "output_type": "stream",
     "text": [
      "Kowalski\n"
     ]
    }
   ],
   "source": [
    "# można również określic tylko jeden z dwóch indeksów\n",
    "# co oznacza od elementu o indeksie 3 do końca łańcucha\n",
    "print(imie + nazwisko[3:])"
   ],
   "metadata": {
    "collapsed": false,
    "ExecuteTime": {
     "end_time": "2024-03-01T14:49:35.562092600Z",
     "start_time": "2024-03-01T14:49:35.553517100Z"
    }
   },
   "id": "d641ef96015495c1",
   "execution_count": 8
  },
  {
   "cell_type": "code",
   "outputs": [
    {
     "name": "stdout",
     "output_type": "stream",
     "text": [
      "Kwlk\n",
      "k\n",
      "iks\n",
      "ikslawoK\n"
     ]
    }
   ],
   "source": [
    "# ogólna postać slice\n",
    "# [start:stop:step]\n",
    "# wartości poszczególnych parametrów slice'a są pomijalne, ale\n",
    "# musimy zapisywać drukropki, które informują mechanizm o tym\n",
    "# które parametry zostaną uzyte z ich domyślnymi wartościami\n",
    "# sprawdź działanie poniższych przykładów\n",
    "print(imie[::2])\n",
    "print(imie[-2])\n",
    "print(imie[:-4:-1])\n",
    "print(imie[::-1])"
   ],
   "metadata": {
    "collapsed": false,
    "ExecuteTime": {
     "end_time": "2024-03-01T14:49:39.238081100Z",
     "start_time": "2024-03-01T14:49:39.233209900Z"
    }
   },
   "id": "a773260337a5ca57",
   "execution_count": 9
  },
  {
   "cell_type": "code",
   "outputs": [],
   "source": [
    "# inny sposób złączania ciągów\n",
    "print(imie + ' ' + nazwisko)"
   ],
   "metadata": {
    "collapsed": false
   },
   "id": "b43020fafc02b3a9",
   "execution_count": null
  },
  {
   "cell_type": "code",
   "outputs": [
    {
     "name": "stdout",
     "output_type": "stream",
     "text": [
      "K\n",
      "i\n",
      "Kkls\n",
      "Kowalski\n",
      "Kwlk\n",
      "k\n",
      "iks\n",
      "ikslawoK\n",
      "Kowalski Jan\n",
      "0\n",
      "2\n",
      "kowalski\n",
      "Kowalski\n",
      "3\n"
     ]
    }
   ],
   "source": [
    "# Elementów ciągu nie można zmieniać więc poniższa instrukcja zwróci błąd.\n",
    "# nazwisko[0] = \"P\"\n",
    "\n",
    "# Potwierdzeniem tego, że ciąg tekstowy jej również obiektem jest możliwość\n",
    "# wykonania na nim metod dla tego typu zdefiniowanych. Metoda count() zlicza\n",
    "# ilość wystąpień danego ciągu w wartości przechowywanej przez zmienną.\n",
    "print(imie.count('z'))\n",
    "# Co ciekawe w Pythonie możemy wywoływać funkcje dla danego obiektu już podczas deklaracji\n",
    "# co na pierwszy rzut oka może wyglądać dość egzotycznie.\n",
    "print('Jesteś szalona!'.count('a'))\n",
    "\n",
    "# Potwierdzeniem niezmienności zadeklarowanego stringa może być również poniższy kod\n",
    "print(imie.lower())\n",
    "print(imie)\n",
    "\n",
    "# Aby zwrócić długość ciągu tekstowego należy posłużyć się wbudowaną funkcją len()\n",
    "print(len(nazwisko))"
   ],
   "metadata": {
    "collapsed": false,
    "ExecuteTime": {
     "end_time": "2024-03-01T14:47:24.221949200Z",
     "start_time": "2024-03-01T14:47:24.218446800Z"
    }
   },
   "id": "396f02b09e2760f3",
   "execution_count": 1
  },
  {
   "cell_type": "markdown",
   "source": [
    "1.2 Formatowanie łańcuchów znaków.\n",
    "Formatowanie łańcuchów znaków polega na łączeniu wzorców tekstowych z wartościami innych typów. Wiemy już, że możemy to zrobić poprzez uzycie funkcji print() np. print('Adam ma ', 23 ,' lata') i nie jest to najgorszy pomysł. Ma jednak pewne wady, a mianowicie nie mamy tutaj zbyt wielu możliwości określenia formatu, w jakim wartość niebędąca łańcuchem znaków zostanie wypisana, np. z dokładnością do n-znaków po przecinku, wyrównana do strony prawej lub lewej, itd. Z pomocą przychodzą techniki formatowania łańcuchów znaków przedstawione na listingu poniżej."
   ],
   "metadata": {
    "collapsed": false
   },
   "id": "8ef803e717e8b310"
  },
  {
   "cell_type": "markdown",
   "source": [
    "Listing 5"
   ],
   "metadata": {
    "collapsed": false
   },
   "id": "e9766192df38c4c0"
  },
  {
   "cell_type": "code",
   "outputs": [],
   "source": [
    "# formatowanie znane z Pythona 2.x\n",
    "wyznanie = 'Lubię %s' % 'Pythona'\n",
    "print(wyznanie)\n",
    "wonsz = 'Python'\n",
    "print('Lubię %sa' % wonsz)\n",
    "\n",
    "print('Lubię %s oraz %sa' % ('Pythona', wonsz))\n",
    "\n",
    "# %s oznacza, że w miejsce tego znacznika będzie podstawiany ciąg tekstowy\n",
    "# %i - to liczba całkowita\n",
    "# %f - liczba rzeczywista lub inaczej zmiennoprzecinkowa\n",
    "# %x lub %X - liczba całkowita zapisana w formie szesnastkowej\n",
    "\n",
    "print('Używamy wersji Python %i' % 3)\n",
    "print('A dokładniej Python %f' % 3.9)\n",
    "print('Chociaż lepiej to zapisać jako Python %.1f' % 3.9)\n",
    "print('A kolejną glówną wersją Pythona może być wersja %.4f' % 3.11111)\n",
    "print('A może będzie to wersja %.1f ?' % 3.111)\n",
    "print('A może jednak %.f ?' % 3.12)\n",
    "wersja = 4\n",
    "print('A %i w systemie szesnastkowym to %X' % (wersja, wersja))\n",
    "print('A %i * %i szesnastkowo daje %X' % (wersja, wersja, wersja*wersja))\n",
    "\n",
    "# Chociaż możliwości przy korzystaniu z mechanizmów powyżej są spore,\n",
    "# to i kilka wad się również znajdzie. Trzeba pilnować zarówno liczby argumentów, jak\n",
    "# i ich kolejności. Konieczne jest powielanie tej samej zmiennej, jeżeli kilka\n",
    "# razy jest wykorzystywana w formatowanym ciągu. Spójrzmy na inne możliwości.\n",
    "\n",
    "print('Lubię %(jezyk)s' % {'jezyk': 'Pythona'})\n",
    "print('Lubię %(jezyk)s a czy Ty lubisz %(jezyk)s ?' % {'jezyk': 'Pythona'})\n",
    "# wadą jest dość duża ilość dodatkowego kodu do napisania, ale nazwy zmiennych\n",
    "# w ciągu pozwalają na ich szybką identyfikację i wielokrotne wykorzystanie w\n",
    "# dowolnej kolejności\n",
    "\n",
    "# poniżej kolejny sposób\n",
    "print('Lubię język {1} oraz {0}'.format('Java', 'Python'))\n",
    "\n",
    "# w nowej wersji języka Python możliwe jest również odwoływanie się do elementów kolekcji\n",
    "# lub pól klasy\n",
    "class Osoba:\n",
    "\n",
    "    def __init__(self, imie, nazwisko):\n",
    "        self.imie = imie\n",
    "        self.nazwisko = nazwisko\n",
    "\n",
    "jan = Osoba('Jan', 'Kowalski')\n",
    "print('Tą osobą jest {0.imie} {0.nazwisko}'.format(jan))"
   ],
   "metadata": {
    "collapsed": false
   },
   "id": "1f7a5c7da9a434a7"
  },
  {
   "cell_type": "markdown",
   "source": [
    "W wersji 3.6 wprowadzono do języka Python pojęcie „f-string”, które nieco upraszcza formatowanie ciągów tekstowych. Jest to obecnie zalecana i szeroko stosowana metoda. Przykład poniżej."
   ],
   "metadata": {
    "collapsed": false
   },
   "id": "b14e14cbe61d7403"
  },
  {
   "cell_type": "markdown",
   "source": [
    "Listing 6"
   ],
   "metadata": {
    "collapsed": false
   },
   "id": "3c4220a5c30a0cb2"
  },
  {
   "cell_type": "code",
   "outputs": [],
   "source": [
    "import sys\n",
    "\n",
    "# zapis jest skróconą postacią użycia funkcji .format()\n",
    "imie = 'Marek'\n",
    "print(f'Witaj {imie}!')\n",
    "print(f'Wynik dodawania 33.33 oraz 66.67 to{33.33 + 66.67: .4f}')\n",
    "print(f'Witaj {input()}!')\n",
    "print(f'Korzystasz z Pythona w wersji {sys.version}.')"
   ],
   "metadata": {
    "collapsed": false
   },
   "id": "68c2b14359cad711"
  },
  {
   "cell_type": "markdown",
   "source": [
    "Po więcej przykładów związanych z formatowaniem łańcuchów można udać się pod poniższe adresy:\n",
    "\n",
    "https://docs.python.org/3/library/string.html#format-string-syntax\n",
    "https://pyformat.info/\n",
    "https://realpython.com/python-f-strings/\n",
    "Kilka mniej oczywistych przykładów z wykorzystaniem właściwości typów str."
   ],
   "metadata": {
    "collapsed": false
   },
   "id": "7b4edfd7be393426"
  },
  {
   "cell_type": "markdown",
   "source": [
    "Listing 7"
   ],
   "metadata": {
    "collapsed": false
   },
   "id": "e63ca33d0e79ceca"
  },
  {
   "cell_type": "code",
   "outputs": [],
   "source": [
    "# \\r jest sekwencją sterującą (tu powrót karetki), sprawdź co to oznacza\n",
    "print('elo\\r', end='')\n",
    "print('zero\\r', end='')\n",
    "\n",
    "# sekwencje sterujące są opisane tu:\n",
    "# https://docs.python.org/3.11/reference/lexical_analysis.html#escape-sequences\n",
    "\n",
    "# gdybyśmy jednak chcieli wypisać na konsoli łańcuch reprezentujący zarezerwowany \n",
    "# dla sekwencji sterującej możemy to zrobić wykorzystując łańcuch 'surowy' lub sekwencję escape (\\\\)\n",
    "\n",
    "print('elo\\\\r', end='')\n",
    "print(r'zero\\r', end='')\n",
    "\n",
    "# a dlaczego się to może przydać ? wypisz linie poniżej\n",
    "print('\\sciezka\\rok\\numer\\task')\n",
    "print(r'\\sciezka\\rok\\numer\\task')\n",
    "print('\\\\sciezka\\\\rok\\\\numer\\\\task')\n",
    "\n",
    "# można też wypisać znaki niestandardowe z tablicy Unicode\n",
    "print(\"\\u2764\")\n",
    "print(\"\\u2765\")\n",
    "print(\"\\U0001F602\")\n",
    "\n",
    "# tablica unicode w przyjaznej formie: https://symbl.cc/en/unicode/table/"
   ],
   "metadata": {
    "collapsed": false
   },
   "id": "b6f680826a2acc61"
  },
  {
   "cell_type": "markdown",
   "source": [
    "Zadania"
   ],
   "metadata": {
    "collapsed": false
   },
   "id": "e700c158d97a5183"
  },
  {
   "cell_type": "markdown",
   "source": [
    "1. Napisz fragment kodu, który wczyta trzy zmienne z klawiatury:\n",
    "- linię danych rozdzielonych jakimś separatorem (spacja, średnik, itd.)\n",
    "- separator źródłowy\n",
    "- separator docelowy\n",
    "Następnie zaimplementuj z użyciem metod split oraz join podzielenie danych wejściowych pierwszym separatorem, połączenie i wypisanie danych połączonych drugim separatorem. Czy można to zrobić prościej wykorzystując wbudowane metody?\n",
    "\n",
    "2. Użyj funkcji input() aby pobrać łańcuch znaków z klawiatury i z użyciem wycinków (slice) wykonaj:\n",
    "- podziel łańcuch na dwie części, w miarę możliwości równe, ale jeżeli długość łańcucha jest nieparzysta, np. 11 znaków to pierwszy ma długość 5, a drugi 6. Wyświetl te łańcuchy w oknie konsoli.\n",
    "- wyświetl łańcuch składający się z co drugiego znaku licząc od końca łańcucha\n",
    "\n",
    "3. Wyświetl na konsoli dowolny ciąg znaków i wykorzystaj wbudowane metody:\n",
    "- title(),\n",
    "- capitalize(),\n",
    "- zfill(),\n",
    "- upper(),\n",
    "- count(),\n",
    "- center().\n",
    "4. Wprowadź z klawiatury dowolny łańcuch znaków i zapisz go do zmiennej. Następnie bazując na przykładzie poniżej zapisz również wyniki dla metod: \n",
    "    - isalpha(), \n",
    "    - isascii(), \n",
    "    - isprintable(), \n",
    "    - istitle(), \n",
    "    - isupper(). \n",
    "wejscie = input() \n",
    "print(\"Łańcuch {wejscie} isdecimal: {wejscie.isdecimal()}\").\n",
    "\n",
    "5. Przejdź na stronę https://pyformat.info/, a następnie zapisz w oddzielnym pliku .py i wykonaj 5 wybranych przykładów formatowania ciągów oznaczonego jako „New”, których nie było w przykładach z tego podrozdziału (np. z wyrównaniem do prawej lub lewej strony, ilością pozycji liczby, znakiem, wypełnieniem spacji itp.). \n",
    "Przerób zaprezentowane tam przykłady na postać z użyciem f-string.\n",
    "\n",
    "6. Wykorzystując listing 7 wypisz na konsoli 10 wybranych znaków niestandardowych (np. litery z alfabetu greckiego, symbole walut - (funt, bitcoin)) wypisując jednocześnie jego kod z tablicy unicode."
   ],
   "metadata": {
    "collapsed": false
   },
   "id": "44865ed8912180a4"
  },
  {
   "cell_type": "code",
   "outputs": [],
   "source": [],
   "metadata": {
    "collapsed": false,
    "ExecuteTime": {
     "end_time": "2024-03-01T14:44:13.779617900Z",
     "start_time": "2024-03-01T14:44:13.775617500Z"
    }
   },
   "id": "3866bef3dea72730",
   "execution_count": 0
  }
 ],
 "metadata": {
  "kernelspec": {
   "display_name": "Python 3",
   "language": "python",
   "name": "python3"
  },
  "language_info": {
   "codemirror_mode": {
    "name": "ipython",
    "version": 2
   },
   "file_extension": ".py",
   "mimetype": "text/x-python",
   "name": "python",
   "nbconvert_exporter": "python",
   "pygments_lexer": "ipython2",
   "version": "2.7.6"
  }
 },
 "nbformat": 4,
 "nbformat_minor": 5
}
