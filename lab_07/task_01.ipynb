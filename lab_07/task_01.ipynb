{
 "cells": [
  {
   "cell_type": "markdown",
   "source": [
    "**Zadanie 1**  \n",
    "Wykorzystując wbudowaną funkcję `isinstance` oraz `filter` napisz funkcję `extract_numbers(vals: list[Any]) -> list[int | float]`, która z podanej listy dowolnych obiektów odfiltruje tylko obiekty typu `int` oraz `float` i zwróci listę je zawierającą."
   ],
   "metadata": {
    "collapsed": false
   },
   "id": "54fcf01aed0923ab"
  },
  {
   "cell_type": "code",
   "execution_count": 5,
   "id": "initial_id",
   "metadata": {
    "collapsed": true,
    "ExecuteTime": {
     "end_time": "2024-04-26T16:57:28.502430700Z",
     "start_time": "2024-04-26T16:57:28.490936300Z"
    }
   },
   "outputs": [
    {
     "name": "stdout",
     "output_type": "stream",
     "text": [
      "[5.4, 5]\n"
     ]
    }
   ],
   "source": [
    "from typing import Any\n",
    "def extract_numbers(vals: list[Any]) -> list[int | float]:\n",
    "    return list(filter(lambda x: (isinstance(x, float) or isinstance(x, int)) and not isinstance(x,bool), vals))\n",
    "\n",
    "\n",
    "print(extract_numbers([\"Ala\", True, 5.4, \"b\",5]))"
   ]
  }
 ],
 "metadata": {
  "kernelspec": {
   "display_name": "Python 3",
   "language": "python",
   "name": "python3"
  },
  "language_info": {
   "codemirror_mode": {
    "name": "ipython",
    "version": 2
   },
   "file_extension": ".py",
   "mimetype": "text/x-python",
   "name": "python",
   "nbconvert_exporter": "python",
   "pygments_lexer": "ipython2",
   "version": "2.7.6"
  }
 },
 "nbformat": 4,
 "nbformat_minor": 5
}
