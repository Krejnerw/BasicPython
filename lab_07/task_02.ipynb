{
 "cells": [
  {
   "cell_type": "markdown",
   "source": [
    "**Zadanie 2**  \n",
    "Wykorzystując funkcję `sorted` i funkcję anonimową `(lambda)` posortuj listę wyrazów (wprowadzaną przez input) według ilości znaków w wyrazie malejąco."
   ],
   "metadata": {
    "collapsed": false
   },
   "id": "54fcf01aed0923ab"
  },
  {
   "cell_type": "code",
   "execution_count": 3,
   "id": "initial_id",
   "metadata": {
    "collapsed": true,
    "ExecuteTime": {
     "end_time": "2024-04-26T16:59:40.741071700Z",
     "start_time": "2024-04-26T16:59:36.527384400Z"
    }
   },
   "outputs": [
    {
     "name": "stdout",
     "output_type": "stream",
     "text": [
      "['kotow', 'ala', 'ma', '5']\n"
     ]
    }
   ],
   "source": [
    "sentence = input(\"Enter a sentence: \").split()\n",
    "sentence = sorted(sentence, key=lambda x: len(x), reverse=True)\n",
    "print(sentence)"
   ]
  }
 ],
 "metadata": {
  "kernelspec": {
   "display_name": "Python 3",
   "language": "python",
   "name": "python3"
  },
  "language_info": {
   "codemirror_mode": {
    "name": "ipython",
    "version": 2
   },
   "file_extension": ".py",
   "mimetype": "text/x-python",
   "name": "python",
   "nbconvert_exporter": "python",
   "pygments_lexer": "ipython2",
   "version": "2.7.6"
  }
 },
 "nbformat": 4,
 "nbformat_minor": 5
}
