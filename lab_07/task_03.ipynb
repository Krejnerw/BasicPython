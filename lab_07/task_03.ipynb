{
 "cells": [
  {
   "cell_type": "markdown",
   "source": [
    "**Zadanie 3**  \n",
    "Wykorzystując funkcję `sorted` napisz funkcję, która będzie sortowała listę zawierająca wartości typu `int` oraz `str` (może wystąpić tylko jeden lub oba typy danych). Funkcja posiada atrybut domyślny `reversed=False`, który oznacza, że zwrócona lista będzie najpierw zawierała liczby posortowane rosnąco, a następnie łańcuchy znaków. Wartość `True` tego atrybutu oznaczać będzie w liście wyjściowej najpierw łańcuchy znaków, a później liczby."
   ],
   "metadata": {
    "collapsed": false
   },
   "id": "54fcf01aed0923ab"
  },
  {
   "cell_type": "code",
   "execution_count": 11,
   "id": "initial_id",
   "metadata": {
    "collapsed": true,
    "ExecuteTime": {
     "end_time": "2024-04-26T17:10:10.401673900Z",
     "start_time": "2024-04-26T17:10:10.393478200Z"
    }
   },
   "outputs": [
    {
     "name": "stdout",
     "output_type": "stream",
     "text": [
      "[4, 7, 'ala', 'kot']\n",
      "['ala', 'kot', 4, 7]\n"
     ]
    }
   ],
   "source": [
    "def my_sort(values: list[str|int], reversed=False) -> list[str|int]:\n",
    "    return sorted(values, key=lambda x:type(x) == str, reverse=reversed)\n",
    "    \n",
    "\n",
    "print(my_sort([\"ala\", 4, \"kot\", 7]))\n",
    "print(my_sort([\"ala\", 4, \"kot\", 7],True))"
   ]
  }
 ],
 "metadata": {
  "kernelspec": {
   "display_name": "Python 3",
   "language": "python",
   "name": "python3"
  },
  "language_info": {
   "codemirror_mode": {
    "name": "ipython",
    "version": 2
   },
   "file_extension": ".py",
   "mimetype": "text/x-python",
   "name": "python",
   "nbconvert_exporter": "python",
   "pygments_lexer": "ipython2",
   "version": "2.7.6"
  }
 },
 "nbformat": 4,
 "nbformat_minor": 5
}
