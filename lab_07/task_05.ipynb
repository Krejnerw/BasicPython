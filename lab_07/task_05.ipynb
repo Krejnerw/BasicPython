{
 "cells": [
  {
   "cell_type": "markdown",
   "source": [
    "**Zadanie 5**  \n",
    "Napisz funkcję, która będzie sortowała słownik postaci `{'Jan': [1, 3, 4, 7], ...}` na podstawie funkcji przekazanej jako argument. Ogranicz jej działanie do listy wartości typu `int`. Wykorzystaj funkcje wbudowane `min, max, sum, abs` jako wartości argumentu wejściowego."
   ],
   "metadata": {
    "collapsed": false
   },
   "id": "54fcf01aed0923ab"
  },
  {
   "cell_type": "code",
   "execution_count": 71,
   "id": "initial_id",
   "metadata": {
    "collapsed": true,
    "ExecuteTime": {
     "end_time": "2024-04-26T19:01:00.019482700Z",
     "start_time": "2024-04-26T19:01:00.010481800Z"
    }
   },
   "outputs": [
    {
     "name": "stdout",
     "output_type": "stream",
     "text": [
      "{'bob': [-1, -9], 'jan': [0, -8], 'alan': [7, 4]}\n",
      "[7, 4]\n",
      "{'bob': [-1, -9], 'jan': [0, -8], 'alan': [7, 4]}\n",
      "[-1, -9]\n",
      "{'bob': [-1, -9], 'jan': [0, -8], 'alan': [7, 4]}\n",
      "{'jan': [0, -8], 'bob': [-1, -9], 'alan': [7, 4]}\n"
     ]
    }
   ],
   "source": [
    "from typing import Callable\n",
    "\n",
    "def my_sort(values: dict[str,list[int]], function:Callable):\n",
    "    if function == abs:\n",
    "        return dict(sorted(values.items(), key = lambda x: [function(y) for y in x[1]])) #?\n",
    "    return dict(sorted(values.items(), key = lambda x: function(x[1])))\n",
    "\n",
    "\n",
    "data = {'jan': [0, -8], 'bob': [-1, -9],'alan':[7,4]}\n",
    "print(my_sort(data, min))\n",
    "print(max(data.values()))\n",
    "print(my_sort(data, max))\n",
    "print(min(data.values()))\n",
    "print(my_sort(data, sum))\n",
    "print(my_sort(data, abs))"
   ]
  }
 ],
 "metadata": {
  "kernelspec": {
   "display_name": "Python 3",
   "language": "python",
   "name": "python3"
  },
  "language_info": {
   "codemirror_mode": {
    "name": "ipython",
    "version": 2
   },
   "file_extension": ".py",
   "mimetype": "text/x-python",
   "name": "python",
   "nbconvert_exporter": "python",
   "pygments_lexer": "ipython2",
   "version": "2.7.6"
  }
 },
 "nbformat": 4,
 "nbformat_minor": 5
}
