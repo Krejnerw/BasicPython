{
 "cells": [
  {
   "cell_type": "markdown",
   "source": [
    "**Zadanie 1**  \n",
    "Zadeklaruj klasę `Point` o właściwościach `x` oraz `y` (oba typ `int`). Obie właściwości powinny posiadać domyślną wartość równą zero (wywołanie konstruktora bez podania wartości inicjalizujących).\n",
    "\n",
    "**Zadanie 2**  \n",
    "Przesłoń w klasie `Point` metodę `__str__()` tak, aby zwracała tekst Point(x, y) gdzie x i y przedstawia aktualną wartość tych właściwości.\n",
    "\n",
    "**Zadanie 3**  \n",
    "Sprawdź, czy możliwe jest pomnożenie obiektu typu `Point` przez liczbę całkowitą. Zaimplementuj taką możliwość poprzez przesłonięcie metody `__mul__()`. Przetestuj działanie.\n",
    "\n",
    "**Zadanie 4**  \n",
    "Przesłoń w klasie `Point` metodę `__eq__()` odpowiedzialną za porównywanie tego obiektu (self) z innym (other) w sensie tożsamości. Wartość `True` zwracana jest tylko wtedy, gdy jest to dokładnie ten sam typ obiektu (czyli Point) oraz wartości `x` i `y` są identyczne dla obu obiektów.\n",
    "\n",
    "**Zadanie 5**  \n",
    "Stwórz klasę o nazwie `Polygon` i zdefiniuj właściwość `points` typu `list`, która będzie docelowo przechowywała obiekty typu `Point`. Inicjalizuj pustą listę w konstruktorze. Zdefiniuj również metodę `add_point(point: Point`), która będzie dodawała punkt do listy.\n",
    "\n",
    "**Zadanie 6**  \n",
    "W klasie `Polygon` przesłoń metodę `__str__()` tak, aby wypisanie `Polygon` wyglądało mniej więcej tak: Polygon[Point(2, 3), Point(1,1), ...].\n",
    "\n",
    "**Zadanie 7**  \n",
    "W klasie `Polygon` przesłoń metodę `__getitem__()`, tak aby możliwe było zwrócenie pojedynczego punktu (item to int) oraz wycinka (item to slice). W tej metodzie obsłuż wyjątek `TypeError` jeżeli nie jest to int lub slice."
   ],
   "metadata": {
    "collapsed": false
   },
   "id": "756f28150cea4b0a"
  },
  {
   "cell_type": "code",
   "execution_count": 229,
   "id": "3e6db5e4ff6dca8a",
   "metadata": {
    "collapsed": false,
    "ExecuteTime": {
     "end_time": "2024-05-27T19:32:05.228021500Z",
     "start_time": "2024-05-27T19:32:05.219522300Z"
    }
   },
   "outputs": [],
   "source": [
    "class Point:\n",
    "    x: int\n",
    "    y: int\n",
    "    \n",
    "    def __init__(self, x = 0, y = 0):\n",
    "        self.x = x\n",
    "        self.y = y\n",
    "        \n",
    "    def __str__(self):\n",
    "        return f\"Point({self.x}, {self.y})\"\n",
    "    \n",
    "    def __mul__(self, multiplier: int) -> 'Point':\n",
    "        return Point(self.x * multiplier, self.y * multiplier)\n",
    "        \n",
    "    def __eq__(self, other: 'Point') -> bool:\n",
    "        if isinstance(other, Point):\n",
    "            return self.x == other.x and self.y == other.y\n",
    "        return False\n",
    "    \n",
    "    def __repr__(self):\n",
    "        return str(self)"
   ]
  },
  {
   "cell_type": "code",
   "outputs": [],
   "source": [
    "class Polygon:\n",
    "    points: list[Point]\n",
    "    \n",
    "    def __init__(self):\n",
    "        self.points = []\n",
    "        \n",
    "    def add_point(self, point: Point):\n",
    "        self.points.append(point)\n",
    "        \n",
    "    def __str__(self) -> str:\n",
    "        return f'Polygon[{\", \".join(str(point) for point in self.points)}]'\n",
    "        \n",
    "    def __getitem__(self, item: int | slice):\n",
    "        if isinstance(item, slice) or isinstance(item, int):\n",
    "            return self.points[item]\n",
    "        else:\n",
    "            raise TypeError(\"item must be int or slice\")"
   ],
   "metadata": {
    "collapsed": false,
    "ExecuteTime": {
     "end_time": "2024-05-27T19:32:05.241523400Z",
     "start_time": "2024-05-27T19:32:05.234401600Z"
    }
   },
   "id": "4891e7da9c0030db",
   "execution_count": 230
  },
  {
   "cell_type": "markdown",
   "source": [
    "## Tasks 1 to 4"
   ],
   "metadata": {
    "collapsed": false
   },
   "id": "25564bee0576e478"
  },
  {
   "cell_type": "code",
   "outputs": [
    {
     "name": "stdout",
     "output_type": "stream",
     "text": [
      "Point(5, 10)\n"
     ]
    }
   ],
   "source": [
    "point1 = Point(5, 10)\n",
    "print(point1)"
   ],
   "metadata": {
    "collapsed": true,
    "ExecuteTime": {
     "end_time": "2024-05-27T19:32:05.263024800Z",
     "start_time": "2024-05-27T19:32:05.238522100Z"
    }
   },
   "id": "initial_id",
   "execution_count": 231
  },
  {
   "cell_type": "code",
   "outputs": [
    {
     "name": "stdout",
     "output_type": "stream",
     "text": [
      "Point(10, 20)\n"
     ]
    }
   ],
   "source": [
    "point1 = point1 * 2 \n",
    "print(point1)"
   ],
   "metadata": {
    "collapsed": false,
    "ExecuteTime": {
     "end_time": "2024-05-27T19:32:05.263522700Z",
     "start_time": "2024-05-27T19:32:05.243023700Z"
    }
   },
   "id": "5065dc279057f465",
   "execution_count": 232
  },
  {
   "cell_type": "code",
   "outputs": [],
   "source": [
    "point2 = Point(5,6)\n",
    "point3 = Point(10,20)"
   ],
   "metadata": {
    "collapsed": false,
    "ExecuteTime": {
     "end_time": "2024-05-27T19:32:05.264024500Z",
     "start_time": "2024-05-27T19:32:05.246522700Z"
    }
   },
   "id": "d60f1a1844b466f9",
   "execution_count": 233
  },
  {
   "cell_type": "code",
   "outputs": [
    {
     "data": {
      "text/plain": "False"
     },
     "execution_count": 234,
     "metadata": {},
     "output_type": "execute_result"
    }
   ],
   "source": [
    "point1 == point2"
   ],
   "metadata": {
    "collapsed": false,
    "ExecuteTime": {
     "end_time": "2024-05-27T19:32:05.312871400Z",
     "start_time": "2024-05-27T19:32:05.266522600Z"
    }
   },
   "id": "2b464d10172f2f20",
   "execution_count": 234
  },
  {
   "cell_type": "code",
   "outputs": [
    {
     "data": {
      "text/plain": "True"
     },
     "execution_count": 235,
     "metadata": {},
     "output_type": "execute_result"
    }
   ],
   "source": [
    "point1 == point3"
   ],
   "metadata": {
    "collapsed": false,
    "ExecuteTime": {
     "end_time": "2024-05-27T19:32:05.313632400Z",
     "start_time": "2024-05-27T19:32:05.272523800Z"
    }
   },
   "id": "c6ed1d0c464ee24a",
   "execution_count": 235
  },
  {
   "cell_type": "markdown",
   "source": [
    "## Tasks 5 to 7"
   ],
   "metadata": {
    "collapsed": false
   },
   "id": "ce6e0ef8b3648ae2"
  },
  {
   "cell_type": "code",
   "outputs": [
    {
     "name": "stdout",
     "output_type": "stream",
     "text": [
      "Polygon[]\n"
     ]
    }
   ],
   "source": [
    "polygon = Polygon()\n",
    "print(polygon)"
   ],
   "metadata": {
    "collapsed": false,
    "ExecuteTime": {
     "end_time": "2024-05-27T19:32:05.316125200Z",
     "start_time": "2024-05-27T19:32:05.281287300Z"
    }
   },
   "id": "12947c34fc17b1ac",
   "execution_count": 236
  },
  {
   "cell_type": "code",
   "outputs": [
    {
     "name": "stdout",
     "output_type": "stream",
     "text": [
      "Polygon[Point(10, 20), Point(5, 6), Point(20, 40), Point(30, 60)]\n"
     ]
    }
   ],
   "source": [
    "polygon.add_point(point1)\n",
    "polygon.add_point(point2)\n",
    "polygon.add_point(point3*2)\n",
    "polygon.add_point(point1*3)\n",
    "print(polygon)"
   ],
   "metadata": {
    "collapsed": false,
    "ExecuteTime": {
     "end_time": "2024-05-27T19:32:05.352625900Z",
     "start_time": "2024-05-27T19:32:05.319627700Z"
    }
   },
   "id": "dbc3ef9d6e12abfb",
   "execution_count": 237
  },
  {
   "cell_type": "code",
   "outputs": [
    {
     "name": "stdout",
     "output_type": "stream",
     "text": [
      "Point(30, 60)\n",
      "[Point(10, 20), Point(5, 6), Point(20, 40)]\n",
      "[Point(20, 40), Point(30, 60)]\n",
      "[Point(5, 6), Point(20, 40)]\n",
      "[Point(10, 20), Point(20, 40)]\n"
     ]
    }
   ],
   "source": [
    "print(polygon[3])\n",
    "print(polygon[:3])\n",
    "print(polygon[2:])\n",
    "print(polygon[1:3])\n",
    "print(polygon[::2])"
   ],
   "metadata": {
    "collapsed": false,
    "ExecuteTime": {
     "end_time": "2024-05-27T19:32:05.378124200Z",
     "start_time": "2024-05-27T19:32:05.356125900Z"
    }
   },
   "id": "e14b2d5df3f771bf",
   "execution_count": 238
  }
 ],
 "metadata": {
  "kernelspec": {
   "display_name": "Python 3",
   "language": "python",
   "name": "python3"
  },
  "language_info": {
   "codemirror_mode": {
    "name": "ipython",
    "version": 2
   },
   "file_extension": ".py",
   "mimetype": "text/x-python",
   "name": "python",
   "nbconvert_exporter": "python",
   "pygments_lexer": "ipython2",
   "version": "2.7.6"
  }
 },
 "nbformat": 4,
 "nbformat_minor": 5
}
