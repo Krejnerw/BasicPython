{
 "cells": [
  {
   "cell_type": "markdown",
   "source": [
    "Zdefiniuj następujące zbiory, wykorzystując Python comprehension:  \n",
    "A = {1/x: x&isin;[1,10]}  \n",
    "B = {1, 2, 4, 8,…, <img src=\"https://render.githubusercontent.com/render/math?math={2^10}\">}  \n",
    "C = {x: x&isin; B i x jest liczbą podzielną przez 4}  "
   ],
   "metadata": {
    "collapsed": false
   },
   "id": "a66866dc8d0b19ee"
  },
  {
   "cell_type": "code",
   "execution_count": 13,
   "id": "initial_id",
   "metadata": {
    "collapsed": true,
    "ExecuteTime": {
     "end_time": "2024-04-07T18:00:36.966206900Z",
     "start_time": "2024-04-07T18:00:36.960207200Z"
    }
   },
   "outputs": [
    {
     "data": {
      "text/plain": "[1.0,\n 0.5,\n 0.3333333333333333,\n 0.25,\n 0.2,\n 0.16666666666666666,\n 0.14285714285714285,\n 0.125,\n 0.1111111111111111,\n 0.1]"
     },
     "execution_count": 13,
     "metadata": {},
     "output_type": "execute_result"
    }
   ],
   "source": [
    "A = [1/x for x  in range(1,11)]\n",
    "A"
   ]
  },
  {
   "cell_type": "code",
   "outputs": [
    {
     "data": {
      "text/plain": "[1, 2, 4, 8, 16, 32, 64, 128, 256, 512, 1024]"
     },
     "execution_count": 14,
     "metadata": {},
     "output_type": "execute_result"
    }
   ],
   "source": [
    "B = [pow(2,x) for x in range(11)]\n",
    "B"
   ],
   "metadata": {
    "collapsed": false,
    "ExecuteTime": {
     "end_time": "2024-04-07T18:00:36.987708700Z",
     "start_time": "2024-04-07T18:00:36.970209500Z"
    }
   },
   "id": "f70387d6685c2a80",
   "execution_count": 14
  },
  {
   "cell_type": "code",
   "outputs": [
    {
     "data": {
      "text/plain": "[4, 8, 16, 32, 64, 128, 256, 512, 1024]"
     },
     "execution_count": 15,
     "metadata": {},
     "output_type": "execute_result"
    }
   ],
   "source": [
    "C = [x for x in B if x%4 == 0]\n",
    "C"
   ],
   "metadata": {
    "collapsed": false,
    "ExecuteTime": {
     "end_time": "2024-04-07T18:00:36.988207400Z",
     "start_time": "2024-04-07T18:00:36.977210400Z"
    }
   },
   "id": "15e51670bbe82e4f",
   "execution_count": 15
  }
 ],
 "metadata": {
  "kernelspec": {
   "display_name": "Python 3",
   "language": "python",
   "name": "python3"
  },
  "language_info": {
   "codemirror_mode": {
    "name": "ipython",
    "version": 2
   },
   "file_extension": ".py",
   "mimetype": "text/x-python",
   "name": "python",
   "nbconvert_exporter": "python",
   "pygments_lexer": "ipython2",
   "version": "2.7.6"
  }
 },
 "nbformat": 4,
 "nbformat_minor": 5
}
