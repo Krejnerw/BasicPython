{
 "cells": [
  {
   "cell_type": "markdown",
   "source": [
    "Dodaj do funkcji z listingu 8 type hinting."
   ],
   "metadata": {
    "collapsed": false
   },
   "id": "db67c3365dc9cc09"
  },
  {
   "cell_type": "code",
   "outputs": [
    {
     "name": "stdout",
     "output_type": "stream",
     "text": [
      "-1\n",
      "-1.0\n",
      "(-3.732050807568877, -0.2679491924311228)\n"
     ]
    }
   ],
   "source": [
    "import math\n",
    "from typing import Union\n",
    "\n",
    "Num = Union[int, float]\n",
    "\n",
    "def row_kwadratowe(a:Num, b:Num, c:Num) -> Num:\n",
    "    delta:Num\n",
    "    x:Num\n",
    "    x1:Num\n",
    "    x2:Num\n",
    "    \n",
    "    delta = b**2 - 4 * a * c\n",
    "    if (delta < 0):\n",
    "        # brak pierwiastków\n",
    "        return -1\n",
    "    elif (delta == 0):\n",
    "        # jeden pierwiastek\n",
    "        x = (-b) / (2 * a)\n",
    "        return x\n",
    "    else:\n",
    "        # równanie ma dwa pierwiastki\n",
    "        x1 = (- b - math.sqrt(delta)) / (2 * a)\n",
    "        x2 = (- b + math.sqrt(delta)) / (2 * a)\n",
    "        return x1, x2\n",
    "\n",
    "print(row_kwadratowe(6,1,3))\n",
    "print(row_kwadratowe(1,2,1))\n",
    "print(row_kwadratowe(1,4,1))"
   ],
   "metadata": {
    "collapsed": false,
    "ExecuteTime": {
     "end_time": "2024-04-07T18:31:47.187193700Z",
     "start_time": "2024-04-07T18:31:47.182688300Z"
    }
   },
   "id": "9df1ed2b0a6422d6",
   "execution_count": 3
  }
 ],
 "metadata": {
  "kernelspec": {
   "display_name": "Python 3",
   "language": "python",
   "name": "python3"
  },
  "language_info": {
   "codemirror_mode": {
    "name": "ipython",
    "version": 2
   },
   "file_extension": ".py",
   "mimetype": "text/x-python",
   "name": "python",
   "nbconvert_exporter": "python",
   "pygments_lexer": "ipython2",
   "version": "2.7.6"
  }
 },
 "nbformat": 4,
 "nbformat_minor": 5
}
