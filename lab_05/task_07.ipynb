{
 "cells": [
  {
   "cell_type": "markdown",
   "source": [
    "Napisz funkcję, która przyjmuje nieokreśloną liczbę wartości z kluczem. Funkcja przyjmuje argumenty w postaci: klucz to nazwa drużyny a wartość to ilość punktów, które drużyna zdobyła. Funkcja zlicza, ile jest wszystkich punktów razem i zwraca tę wartość."
   ],
   "metadata": {
    "collapsed": false
   },
   "id": "ef72eade8b7849d2"
  },
  {
   "cell_type": "code",
   "outputs": [
    {
     "data": {
      "text/plain": "60"
     },
     "execution_count": 27,
     "metadata": {},
     "output_type": "execute_result"
    }
   ],
   "source": [
    "def all_points(** variable: int) -> int:\n",
    "    return sum(variable.values())\n",
    "\n",
    "points = all_points(AAA=10,BBB=20,CCC=30)\n",
    "points"
   ],
   "metadata": {
    "collapsed": false,
    "ExecuteTime": {
     "end_time": "2024-04-07T19:43:03.501503600Z",
     "start_time": "2024-04-07T19:43:03.495003600Z"
    }
   },
   "id": "e5c946f573343f47",
   "execution_count": 27
  }
 ],
 "metadata": {
  "kernelspec": {
   "display_name": "Python 3",
   "language": "python",
   "name": "python3"
  },
  "language_info": {
   "codemirror_mode": {
    "name": "ipython",
    "version": 2
   },
   "file_extension": ".py",
   "mimetype": "text/x-python",
   "name": "python",
   "nbconvert_exporter": "python",
   "pygments_lexer": "ipython2",
   "version": "2.7.6"
  }
 },
 "nbformat": 4,
 "nbformat_minor": 5
}
