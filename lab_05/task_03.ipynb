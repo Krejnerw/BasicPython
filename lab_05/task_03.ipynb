{
 "cells": [
  {
   "cell_type": "markdown",
   "source": [
    "Napisz wyrażenie generujące, które będzie zwracało krotkę dwuwartościową postaci: ('Ala', [65, 108, 97]), ('ma', [109, 97]), ('kota.', [107, 111, 116, 97, 46]) dla przykładowego zdania Ala ma kota. Dla każdego wyrazu z tekstu przekazanego jako argument wejściowy tego wyrażenia zwraca ten wyraz oraz listę wartości int odpowiadającą kodowi tego znaku z tablicy znaków (zobacz wbudowane ord(), chr())."
   ],
   "metadata": {
    "collapsed": false
   },
   "id": "42e9239be7f1bf5"
  },
  {
   "cell_type": "code",
   "outputs": [
    {
     "data": {
      "text/plain": "97"
     },
     "execution_count": 12,
     "metadata": {},
     "output_type": "execute_result"
    }
   ],
   "source": [
    "ord(\"a\")"
   ],
   "metadata": {
    "collapsed": false,
    "ExecuteTime": {
     "end_time": "2024-04-07T18:25:49.690100200Z",
     "start_time": "2024-04-07T18:25:49.683103Z"
    }
   },
   "id": "28e18b8d1ad7282f",
   "execution_count": 12
  },
  {
   "cell_type": "code",
   "outputs": [
    {
     "data": {
      "text/plain": "'2'"
     },
     "execution_count": 15,
     "metadata": {},
     "output_type": "execute_result"
    }
   ],
   "source": [
    "chr(50)"
   ],
   "metadata": {
    "collapsed": false,
    "ExecuteTime": {
     "end_time": "2024-04-07T18:26:05.844457100Z",
     "start_time": "2024-04-07T18:26:05.833456400Z"
    }
   },
   "id": "d83b58a6e4d57e3d",
   "execution_count": 15
  },
  {
   "cell_type": "code",
   "outputs": [
    {
     "data": {
      "text/plain": "[('ala', [97, 108, 97]),\n ('ma', [109, 97]),\n ('2', [50]),\n ('koty', [107, 111, 116, 121])]"
     },
     "execution_count": 14,
     "metadata": {},
     "output_type": "execute_result"
    }
   ],
   "source": [
    "sentence = input(\"Enter a sentence: \").split(\" \")\n",
    "data = [(x,[ord(y) for y in x]) for x in sentence]\n",
    "data"
   ],
   "metadata": {
    "collapsed": false,
    "ExecuteTime": {
     "end_time": "2024-04-07T18:25:55.364394800Z",
     "start_time": "2024-04-07T18:25:49.692600800Z"
    }
   },
   "id": "adcbe06ea8d1c32",
   "execution_count": 14
  }
 ],
 "metadata": {
  "kernelspec": {
   "display_name": "Python 3",
   "language": "python",
   "name": "python3"
  },
  "language_info": {
   "codemirror_mode": {
    "name": "ipython",
    "version": 2
   },
   "file_extension": ".py",
   "mimetype": "text/x-python",
   "name": "python",
   "nbconvert_exporter": "python",
   "pygments_lexer": "ipython2",
   "version": "2.7.6"
  }
 },
 "nbformat": 4,
 "nbformat_minor": 5
}
