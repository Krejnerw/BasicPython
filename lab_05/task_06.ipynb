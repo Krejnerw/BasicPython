{
 "cells": [
  {
   "cell_type": "markdown",
   "source": [
    "Wykorzystując poprzedni przykład z listingu 11 zdefiniuj funkcję, która będzie przyjmowała obiekty typu str jako wejście (dowolną liczbę), a będzie zwracała listę tych łańcuchów posortowaną alfabetycznie."
   ],
   "metadata": {
    "collapsed": false
   },
   "id": "ed346b3a79bb2ddd"
  },
  {
   "cell_type": "code",
   "outputs": [
    {
     "name": "stdout",
     "output_type": "stream",
     "text": [
      "[]\n",
      "['ala', 'burza', 'kot']\n"
     ]
    }
   ],
   "source": [
    "# symbol * oznacza dowolną ilość argumentów, które zostaną\n",
    "# zapakowane do krotki\n",
    "def posortuj(* slowa:str) -> list[str]:\n",
    "    if len(slowa) == 0:\n",
    "        return list(slowa)\n",
    "    else:\n",
    "        return sorted(slowa)\n",
    "\n",
    "# wywołanie gdy brak argumentów\n",
    "print(posortuj())\n",
    "# podajemy argumenty\n",
    "print(posortuj(\"ala\", \"kot\",\"burza\"))"
   ],
   "metadata": {
    "collapsed": false,
    "ExecuteTime": {
     "end_time": "2024-04-07T19:09:27.751303900Z",
     "start_time": "2024-04-07T19:09:27.744710100Z"
    }
   },
   "id": "c6c9b36a421e3a59",
   "execution_count": 2
  }
 ],
 "metadata": {
  "kernelspec": {
   "display_name": "Python 3",
   "language": "python",
   "name": "python3"
  },
  "language_info": {
   "codemirror_mode": {
    "name": "ipython",
    "version": 2
   },
   "file_extension": ".py",
   "mimetype": "text/x-python",
   "name": "python",
   "nbconvert_exporter": "python",
   "pygments_lexer": "ipython2",
   "version": "2.7.6"
  }
 },
 "nbformat": 4,
 "nbformat_minor": 5
}
