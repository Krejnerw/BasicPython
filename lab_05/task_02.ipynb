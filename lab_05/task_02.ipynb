{
 "cells": [
  {
   "cell_type": "markdown",
   "source": [
    "Wygeneruj macierz (lista dwupoziomowa) losowych wartości (sprawdź pakiet random) 4x4 i wykorzystując Python comprehension zdefiniuj listę, która będzie zawierała tylko elementy znajdujące się na głównej przekątnej."
   ],
   "metadata": {
    "collapsed": false
   },
   "id": "1a3be5d5c864d63e"
  },
  {
   "cell_type": "code",
   "outputs": [
    {
     "data": {
      "text/plain": "[[8, 10, 3, 10], [10, 3, 8, 8], [1, 6, 4, 10], [6, 9, 1, 9]]"
     },
     "execution_count": 12,
     "metadata": {},
     "output_type": "execute_result"
    }
   ],
   "source": [
    "import random\n",
    "\n",
    "data = [[random.randint(1, 10) for i in range(4)] for j in range(4)]\n",
    "data"
   ],
   "metadata": {
    "collapsed": false,
    "ExecuteTime": {
     "end_time": "2024-04-07T18:20:34.311880200Z",
     "start_time": "2024-04-07T18:20:34.302880Z"
    }
   },
   "id": "3b71588889bd150f",
   "execution_count": 12
  },
  {
   "cell_type": "code",
   "outputs": [
    {
     "data": {
      "text/plain": "[8, 3, 4, 9]"
     },
     "execution_count": 13,
     "metadata": {},
     "output_type": "execute_result"
    }
   ],
   "source": [
    "diagonal= [data[x][x] for x in range(4)]\n",
    "diagonal"
   ],
   "metadata": {
    "collapsed": false,
    "ExecuteTime": {
     "end_time": "2024-04-07T18:20:34.325184400Z",
     "start_time": "2024-04-07T18:20:34.315880200Z"
    }
   },
   "id": "d9896f35efbb93e4",
   "execution_count": 13
  }
 ],
 "metadata": {
  "kernelspec": {
   "display_name": "Python 3",
   "language": "python",
   "name": "python3"
  },
  "language_info": {
   "codemirror_mode": {
    "name": "ipython",
    "version": 2
   },
   "file_extension": ".py",
   "mimetype": "text/x-python",
   "name": "python",
   "nbconvert_exporter": "python",
   "pygments_lexer": "ipython2",
   "version": "2.7.6"
  }
 },
 "nbformat": 4,
 "nbformat_minor": 5
}
