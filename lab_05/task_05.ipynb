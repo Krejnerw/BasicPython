{
 "cells": [
  {
   "cell_type": "markdown",
   "source": [
    "Napisz funkcję, która:\n",
    "\n",
    "przyjmuje z klawiatury n, będące liczbą całkowitą\n",
    "wykonuje n rzutów kostką k6 i zwraca listę krotek wartości postaci ('oczka: 6', 'rzutów: i') itd., gdzie zmienna i jest ilością rzutów dla tej liczby oczek. Dodaj odpowiedni type hinting."
   ],
   "metadata": {
    "collapsed": false
   },
   "id": "42e2cbbfe6a2eb6"
  },
  {
   "cell_type": "code",
   "outputs": [
    {
     "name": "stdout",
     "output_type": "stream",
     "text": [
      "{1: 0, 2: 0, 3: 0, 4: 0, 5: 0, 6: 0}\n",
      "{1: 3, 2: 3, 3: 4, 4: 4, 5: 3, 6: 3}\n"
     ]
    },
    {
     "data": {
      "text/plain": "['oczka: 1 rzutów: 3',\n 'oczka: 2 rzutów: 3',\n 'oczka: 3 rzutów: 4',\n 'oczka: 4 rzutów: 4',\n 'oczka: 5 rzutów: 3',\n 'oczka: 6 rzutów: 3']"
     },
     "execution_count": 15,
     "metadata": {},
     "output_type": "execute_result"
    }
   ],
   "source": [
    "import random\n",
    "\n",
    "\n",
    "def throw_the_dice() -> list[str]:\n",
    "    n: int\n",
    "    thwors: dict[int][int]\n",
    "    \n",
    "    n = int(input('Enter a number: '))\n",
    "    thwors = {x: 0 for x in range(1, 7)}\n",
    "    print(thwors)\n",
    "    for i in range(n):\n",
    "        thwors[random.randint(1,6)] += 1\n",
    "    print(thwors)\n",
    "    return [f'oczka: {i} rzutów: {thwors[i]}' for i in range(1,7)]\n",
    "\n",
    "\n",
    "throw_the_dice()"
   ],
   "metadata": {
    "collapsed": false,
    "ExecuteTime": {
     "end_time": "2024-04-07T19:09:01.771119800Z",
     "start_time": "2024-04-07T19:08:58.052677700Z"
    }
   },
   "id": "c13c9558c8bc966e",
   "execution_count": 15
  }
 ],
 "metadata": {
  "kernelspec": {
   "display_name": "Python 3",
   "language": "python",
   "name": "python3"
  },
  "language_info": {
   "codemirror_mode": {
    "name": "ipython",
    "version": 2
   },
   "file_extension": ".py",
   "mimetype": "text/x-python",
   "name": "python",
   "nbconvert_exporter": "python",
   "pygments_lexer": "ipython2",
   "version": "2.7.6"
  }
 },
 "nbformat": 4,
 "nbformat_minor": 5
}
