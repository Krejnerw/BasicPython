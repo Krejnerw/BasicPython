{
 "cells": [
  {
   "cell_type": "markdown",
   "source": [
    "**Zadanie 7**  \n",
    "Korzystając z kodu umieszczonego poniżej oraz wykorzystując funkcję zdefiniowaną w zadaniu 6 napisz rozwiązanie, które będzie operowało na zwracanej kolejce z zadania 6, wykonując jej rotację, i wyświetlało tak jak w funkcji `spinit` aktualne wartości \"koła fortuny\", aż zatrzyma się na właściwym (można przyjąć, że będzie to pierwszy element kolejki). Wykonaj kilka obrotów kołem dla przetestowania kodu (wartości obrotu mogą być \"na sztywno\" lub losowane)."
   ],
   "metadata": {
    "collapsed": false
   },
   "id": "94fe11de063080fc"
  },
  {
   "cell_type": "code",
   "execution_count": 14,
   "id": "initial_id",
   "metadata": {
    "collapsed": true,
    "ExecuteTime": {
     "end_time": "2024-05-13T18:44:00.481359200Z",
     "start_time": "2024-05-13T18:43:59.224286900Z"
    }
   },
   "outputs": [
    {
     "ename": "ValueError",
     "evalue": "invalid literal for int() with base 10: ''",
     "output_type": "error",
     "traceback": [
      "\u001B[1;31m---------------------------------------------------------------------------\u001B[0m",
      "\u001B[1;31mValueError\u001B[0m                                Traceback (most recent call last)",
      "Cell \u001B[1;32mIn[14], line 28\u001B[0m\n\u001B[0;32m     24\u001B[0m             \u001B[38;5;28mprint\u001B[39m(\u001B[38;5;124m'\u001B[39m\u001B[38;5;130;01m\\r\u001B[39;00m\u001B[38;5;124m'\u001B[39m, end\u001B[38;5;241m=\u001B[39m\u001B[38;5;124m'\u001B[39m\u001B[38;5;124m'\u001B[39m)\n\u001B[0;32m     25\u001B[0m         \u001B[38;5;28;01mif\u001B[39;00m fortune_wheel_elements[\u001B[38;5;241m0\u001B[39m] \u001B[38;5;241m==\u001B[39m \u001B[38;5;124m\"\u001B[39m\u001B[38;5;124mwin\u001B[39m\u001B[38;5;124m\"\u001B[39m:\u001B[38;5;28;01mbreak\u001B[39;00m\n\u001B[1;32m---> 28\u001B[0m \u001B[43mspinit\u001B[49m\u001B[43m(\u001B[49m\u001B[43m)\u001B[49m\n",
      "Cell \u001B[1;32mIn[14], line 14\u001B[0m, in \u001B[0;36mspinit\u001B[1;34m()\u001B[0m\n\u001B[0;32m     12\u001B[0m fortune_wheel_elements \u001B[38;5;241m=\u001B[39m create_fortune_wheel(\u001B[38;5;124m\"\u001B[39m\u001B[38;5;124mwin\u001B[39m\u001B[38;5;124m\"\u001B[39m, \u001B[38;5;124m\"\u001B[39m\u001B[38;5;124mapple\u001B[39m\u001B[38;5;124m\"\u001B[39m, \u001B[38;5;124m\"\u001B[39m\u001B[38;5;124mbanana\u001B[39m\u001B[38;5;124m\"\u001B[39m, \u001B[38;5;124m\"\u001B[39m\u001B[38;5;124m100\u001B[39m\u001B[38;5;124m\"\u001B[39m, \u001B[38;5;124m\"\u001B[39m\u001B[38;5;124m52\u001B[39m\u001B[38;5;124m\"\u001B[39m,\u001B[38;5;124m\"\u001B[39m\u001B[38;5;124mNone\u001B[39m\u001B[38;5;124m\"\u001B[39m)\n\u001B[0;32m     13\u001B[0m \u001B[38;5;28;01mwhile\u001B[39;00m \u001B[38;5;28;01mTrue\u001B[39;00m:\n\u001B[1;32m---> 14\u001B[0m     ticks \u001B[38;5;241m=\u001B[39m \u001B[38;5;28;43mint\u001B[39;49m\u001B[43m(\u001B[49m\u001B[38;5;28;43minput\u001B[39;49m\u001B[43m(\u001B[49m\u001B[38;5;124;43m\"\u001B[39;49m\u001B[38;5;124;43mPass a strength of the spin or 0 to stop spinning: \u001B[39;49m\u001B[38;5;124;43m\"\u001B[39;49m\u001B[43m)\u001B[49m\u001B[43m)\u001B[49m\n\u001B[0;32m     15\u001B[0m     \u001B[38;5;28;01mif\u001B[39;00m ticks \u001B[38;5;241m==\u001B[39m \u001B[38;5;241m0\u001B[39m:\u001B[38;5;28;01mbreak\u001B[39;00m\n\u001B[0;32m     16\u001B[0m     ticks \u001B[38;5;241m+\u001B[39m\u001B[38;5;241m=\u001B[39m \u001B[38;5;28mabs\u001B[39m(random\u001B[38;5;241m.\u001B[39mrandint(\u001B[38;5;241m-\u001B[39m\u001B[38;5;241m2\u001B[39m,\u001B[38;5;241m2\u001B[39m))\n",
      "\u001B[1;31mValueError\u001B[0m: invalid literal for int() with base 10: ''"
     ]
    }
   ],
   "source": [
    "from collections import Counter, deque\n",
    "import time\n",
    "import random\n",
    "\n",
    "import numpy as np\n",
    "\n",
    "def create_fortune_wheel(*args):\n",
    "    wheel_counter = Counter(args)\n",
    "    return deque(wheel_counter.elements())\n",
    "\n",
    "def spinit():\n",
    "    fortune_wheel_elements = create_fortune_wheel(\"win\", \"apple\", \"banana\", \"100\", \"52\",\"None\")\n",
    "    while True:\n",
    "        ticks = int(input(\"Pass a strength of the spin or 0 to stop spinning: \"))\n",
    "        if ticks == 0:break\n",
    "        ticks += abs(random.randint(-2,2))\n",
    "        \n",
    "        waits = np.logspace(0.0, 1.0, num=ticks) / ticks\n",
    "    \n",
    "        for tick in range(ticks):\n",
    "            fortune_wheel_elements.rotate(-1)\n",
    "            print(f'{fortune_wheel_elements}', end='')\n",
    "            time.sleep(waits[tick])\n",
    "            print('\\r', end='')\n",
    "        if fortune_wheel_elements[0] == \"win\":break\n",
    "        \n",
    "\n",
    "spinit()"
   ]
  },
  {
   "cell_type": "markdown",
   "source": [],
   "metadata": {
    "collapsed": false
   },
   "id": "33dddfb279d1fb3c"
  }
 ],
 "metadata": {
  "kernelspec": {
   "display_name": "Python 3",
   "language": "python",
   "name": "python3"
  },
  "language_info": {
   "codemirror_mode": {
    "name": "ipython",
    "version": 2
   },
   "file_extension": ".py",
   "mimetype": "text/x-python",
   "name": "python",
   "nbconvert_exporter": "python",
   "pygments_lexer": "ipython2",
   "version": "2.7.6"
  }
 },
 "nbformat": 4,
 "nbformat_minor": 5
}
