{
 "cells": [
  {
   "cell_type": "markdown",
   "source": [
    "**Zadanie 4**  \n",
    "Wykorzystaj plik zamówienia.txt z lab 6 i załaduj część jego zawartości (kilka rekordów) do krotek nazwanych tak, że pola tej krotki są dynamicznie definiowane na podstawie wartości z pierwszego wiersza tego pliku (etykiety)."
   ],
   "metadata": {
    "collapsed": false
   },
   "id": "44c6e4be10ffa587"
  },
  {
   "cell_type": "code",
   "execution_count": 7,
   "id": "initial_id",
   "metadata": {
    "collapsed": true,
    "ExecuteTime": {
     "end_time": "2024-05-13T17:56:42.333793300Z",
     "start_time": "2024-05-13T17:56:42.318248400Z"
    }
   },
   "outputs": [
    {
     "name": "stdout",
     "output_type": "stream",
     "text": [
      "Order(kraj='Polska', sprzedawca='Kowalski', data_zamowienia='16.07.2003', idzamowienia='10248', utarg='440,00 z')\n",
      "Order(kraj='Polska', sprzedawca='Sowiski', data_zamowienia='10.07.2003', idzamowienia='10249', utarg='1 863,40 z')\n",
      "Order(kraj='Niemcy', sprzedawca='Peacock', data_zamowienia='12.07.2003', idzamowienia='10250', utarg='1 552,60 z')\n",
      "Order(kraj='Niemcy', sprzedawca='Leverling', data_zamowienia='15.07.2003', idzamowienia='10251', utarg='654,06 z')\n",
      "Order(kraj='Niemcy', sprzedawca='Peacock', data_zamowienia='11.07.2003', idzamowienia='10252', utarg='3 597,90 z')\n",
      "Order(kraj='Niemcy', sprzedawca='Leverling', data_zamowienia='16.07.2003', idzamowienia='10253', utarg='1 444,80 z')\n",
      "Order(kraj='Polska', sprzedawca='Kowalski', data_zamowienia='23.07.2003', idzamowienia='10254', utarg='556,62 z')\n"
     ]
    }
   ],
   "source": [
    "import csv\n",
    "from collections import namedtuple\n",
    "\n",
    "with open('zamowienia.csv', newline='', encoding='utf-8', errors=\"ignore\") as file:\n",
    "    reader = csv.reader(file, delimiter=';', quoting=csv.QUOTE_NONE)\n",
    "    Order = namedtuple('Order', [x.lower().replace(\" \", \"_\") for x in next(reader)])\n",
    "    lines = []\n",
    "    for i in range(7):\n",
    "        lines.append(Order._make(next(reader)))\n",
    "    for j in lines:\n",
    "        print(j)"
   ]
  }
 ],
 "metadata": {
  "kernelspec": {
   "display_name": "Python 3",
   "language": "python",
   "name": "python3"
  },
  "language_info": {
   "codemirror_mode": {
    "name": "ipython",
    "version": 2
   },
   "file_extension": ".py",
   "mimetype": "text/x-python",
   "name": "python",
   "nbconvert_exporter": "python",
   "pygments_lexer": "ipython2",
   "version": "2.7.6"
  }
 },
 "nbformat": 4,
 "nbformat_minor": 5
}
