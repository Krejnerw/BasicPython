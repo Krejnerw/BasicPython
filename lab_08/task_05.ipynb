{
 "cells": [
  {
   "cell_type": "markdown",
   "source": [
    "**Zadanie 5**  \n",
    "Napisz funkcję, która z tablicy wartości liczbowych będzie zwracała 10% najwyższych wartości."
   ],
   "metadata": {
    "collapsed": false
   },
   "id": "f243bbbb57d743f9"
  },
  {
   "cell_type": "code",
   "execution_count": 20,
   "id": "initial_id",
   "metadata": {
    "collapsed": true,
    "ExecuteTime": {
     "end_time": "2024-05-13T18:19:30.091537400Z",
     "start_time": "2024-05-13T18:19:30.061034800Z"
    }
   },
   "outputs": [
    {
     "name": "stdout",
     "output_type": "stream",
     "text": [
      "5\n",
      "[99, 98, 98, 97, 96]\n",
      "5\n",
      "[0.9925294518470764, 0.9818101525306702, 0.9551504850387573, 0.9499618411064148, 0.9423778057098389]\n"
     ]
    }
   ],
   "source": [
    "from array import array\n",
    "import random \n",
    "from typing import Union\n",
    "\n",
    "\n",
    "Union = Union[int, float]\n",
    "\n",
    "def get_10perc_of_biggest_numbers(numbers: array) -> list[Union]:\n",
    "    max_size = len(numbers) // 10\n",
    "    print(max_size)\n",
    "    return sorted(numbers, reverse=True)[0:max_size]\n",
    "\n",
    "\n",
    "numbers = array('i',[random.randint(-100, 100) for _ in range(50)])\n",
    "floats = array('f',[random.random() for _ in range(50)])\n",
    "print(get_10perc_of_biggest_numbers(numbers))\n",
    "print(get_10perc_of_biggest_numbers(floats))"
   ]
  },
  {
   "cell_type": "code",
   "outputs": [],
   "source": [],
   "metadata": {
    "collapsed": false,
    "ExecuteTime": {
     "end_time": "2024-05-13T18:19:30.092034600Z",
     "start_time": "2024-05-13T18:19:30.083535500Z"
    }
   },
   "id": "f105a04bcf7a8ca",
   "execution_count": 20
  }
 ],
 "metadata": {
  "kernelspec": {
   "display_name": "Python 3",
   "language": "python",
   "name": "python3"
  },
  "language_info": {
   "codemirror_mode": {
    "name": "ipython",
    "version": 2
   },
   "file_extension": ".py",
   "mimetype": "text/x-python",
   "name": "python",
   "nbconvert_exporter": "python",
   "pygments_lexer": "ipython2",
   "version": "2.7.6"
  }
 },
 "nbformat": 4,
 "nbformat_minor": 5
}
