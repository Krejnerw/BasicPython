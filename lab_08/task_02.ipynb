{
 "cells": [
  {
   "cell_type": "markdown",
   "source": [
    "**Zadanie 2**  \n",
    "Zmierz czas operacji zapisu i ładowania danych z tablicy i listy z listingu 3. Użyj do tego modułu `datetime`. Wnioski ?\n",
    "\n",
    "Można oczywiście użyć bardziej wyrafinowanych narzędzi do serializacji obiektów Pythona i ich późniejszej deserializacji np. popularnego modułu `pikle`.\n",
    "\n",
    "Innym ciekawym rozwiązaniem, które może się przydać przy pracy z dużą ilością obiektów jest klasa `memoryview` (widok pamięci). Jej powstanie zostało zaispirowane biblioteką NumPy."
   ],
   "metadata": {
    "collapsed": false
   },
   "id": "2f89f0ee5340ed49"
  },
  {
   "cell_type": "code",
   "execution_count": 7,
   "id": "initial_id",
   "metadata": {
    "collapsed": true,
    "ExecuteTime": {
     "end_time": "2024-05-13T17:36:44.144916200Z",
     "start_time": "2024-05-13T17:36:37.397410200Z"
    }
   },
   "outputs": [
    {
     "name": "stdout",
     "output_type": "stream",
     "text": [
      "Saving table to file started, time: 2024-05-13 19:36:37.395908\n",
      "Saving table to file ended, time: 2024-05-13 19:36:37.398909\n",
      "Total operation time 0.003001\n",
      "Loading table from file started, time: 2024-05-13 19:36:37.399908\n",
      "Loading table from file ended, time: 2024-05-13 19:36:37.407912\n",
      "Total operation time 0.008004\n",
      "Saving list to file started, time: 2024-05-13 19:36:37.495409\n",
      "Saving list to file ended, time: 2024-05-13 19:36:43.631416\n",
      "Total operation time 6.136007\n",
      "Loading list from file started, time: 2024-05-13 19:36:43.631909\n",
      "Loading list from file ended, time: 2024-05-13 19:36:43.767410\n",
      "Total operation time 0.135501\n",
      "[0.7369915965352982, 0.9431760225742092, 0.6734392819224699, 0.3208678799617797, 0.06824624976622928, 0.8744430457989348, 0.648150325843147, 0.21910780609419578, 0.9976817844118901, 0.15989931866284413]\n"
     ]
    }
   ],
   "source": [
    "from array import array\n",
    "import random\n",
    "from datetime import datetime\n",
    "\n",
    "setup = \"\"\"\n",
    "from array import array\n",
    "import random\n",
    "\"\"\"\n",
    "\n",
    "# zapisanie tablicy do pliku oraz jej wczytanie\n",
    "tab_of_floats = array('f', [random.random() for _ in range(1_000_000)])\n",
    "\n",
    "start = datetime.now()\n",
    "print(f\"Saving table to file started, time: {start}\")\n",
    "with open('floats_array.bin', 'wb') as file_arr:\n",
    "    tab_of_floats.tofile(file_arr)\n",
    "end = datetime.now()\n",
    "print(f\"Saving table to file ended, time: {end}\")\n",
    "print(f\"Total operation time {(end-start).total_seconds()}\")\n",
    "\n",
    "# wczytujemy ponownie dane do tablicy floatów\n",
    "tab_of_floats_loaded = array('f')\n",
    "start = datetime.now()\n",
    "print(f\"Loading table from file started, time: {start}\")\n",
    "file_arr  = open('floats_array.bin', 'rb')\n",
    "tab_of_floats_loaded.fromfile(file_arr, 1_000_000)\n",
    "file_arr.close()\n",
    "end = datetime.now()\n",
    "print(f\"Loading table from file ended, time: {end}\")\n",
    "print(f\"Total operation time {(end-start).total_seconds()}\")\n",
    "\n",
    "\n",
    "# i analogiczna operacja dla listy\n",
    "list_of_floats = [random.random() for _ in range(1_000_000)]\n",
    "start = datetime.now()\n",
    "print(f\"Saving list to file started, time: {start}\")\n",
    "with open('floats_list.txt', 'w') as file_arr:\n",
    "    file_arr.writelines('\\n'.join([str(x) for x in list_of_floats]))\n",
    "end = datetime.now()\n",
    "print(f\"Saving list to file ended, time: {end}\")\n",
    "print(f\"Total operation time {(end-start).total_seconds()}\")\n",
    "\n",
    "start = datetime.now()\n",
    "print(f\"Loading list from file started, time: {start}\")\n",
    "with open('floats_list.txt', 'r') as file_list:\n",
    "    list_of_floats_loaded = file_list.readlines()\n",
    "end = datetime.now()\n",
    "print(f\"Loading list from file ended, time: {end}\")\n",
    "print(f\"Total operation time {(end-start).total_seconds()}\")\n",
    "\n",
    "list_of_floats_loaded = [float(x.strip()) for x in list_of_floats_loaded]\n",
    "print(list_of_floats_loaded[:10])"
   ]
  }
 ],
 "metadata": {
  "kernelspec": {
   "display_name": "Python 3",
   "language": "python",
   "name": "python3"
  },
  "language_info": {
   "codemirror_mode": {
    "name": "ipython",
    "version": 2
   },
   "file_extension": ".py",
   "mimetype": "text/x-python",
   "name": "python",
   "nbconvert_exporter": "python",
   "pygments_lexer": "ipython2",
   "version": "2.7.6"
  }
 },
 "nbformat": 4,
 "nbformat_minor": 5
}
