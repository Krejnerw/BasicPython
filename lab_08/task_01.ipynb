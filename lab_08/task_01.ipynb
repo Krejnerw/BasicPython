{
 "cells": [
  {
   "cell_type": "markdown",
   "source": [
    "**Zadanie 1**  \n",
    "Wykorzystując przykład z listingu 2 napisz kod, który przetestuje czas inicjowania tablicy znaków oraz wartości całkowitych (typ int i long) i porówna z czasem zainicjowania listy z takimi samymi wartościami."
   ],
   "metadata": {
    "collapsed": false
   },
   "id": "d3e7710f92d313bd"
  },
  {
   "cell_type": "code",
   "execution_count": 4,
   "id": "initial_id",
   "metadata": {
    "collapsed": true,
    "ExecuteTime": {
     "end_time": "2024-05-13T17:48:45.637910400Z",
     "start_time": "2024-05-13T17:48:24.127866700Z"
    }
   },
   "outputs": [
    {
     "name": "stdout",
     "output_type": "stream",
     "text": [
      "6.720888199983165\n",
      "4.010218399926089\n",
      "6.416426599957049\n",
      "4.34886390005704\n"
     ]
    }
   ],
   "source": [
    "from timeit import timeit\n",
    "\n",
    "setup = \"\"\"\n",
    "from array import array\n",
    "import random\n",
    "\"\"\"\n",
    "stmt1_1 = \"\"\"\n",
    "tab_of_strings = array('u', ['x' for _ in range(1_000_000)])\n",
    "\"\"\"\n",
    "stmt1_2 = \"\"\"\n",
    "list_of_strings = ['x' for _ in range(1_000_000)]\n",
    "\"\"\"\n",
    "\n",
    "stmt2_1 = \"\"\"\n",
    "tab_of_numbers = array('i', [1 for _ in range(1_000_000)])\n",
    "\"\"\"\n",
    "stmt2_2 = \"\"\"\n",
    "list_of_numbers = [1 for _ in range(1_000_000)]\n",
    "\"\"\"\n",
    "\n",
    "print(timeit(stmt1_1, setup, number=100))\n",
    "print(timeit(stmt1_2, setup, number=100))\n",
    "print(timeit(stmt2_1, setup, number=100))\n",
    "print(timeit(stmt2_2, setup, number=100))"
   ]
  }
 ],
 "metadata": {
  "kernelspec": {
   "display_name": "Python 3",
   "language": "python",
   "name": "python3"
  },
  "language_info": {
   "codemirror_mode": {
    "name": "ipython",
    "version": 2
   },
   "file_extension": ".py",
   "mimetype": "text/x-python",
   "name": "python",
   "nbconvert_exporter": "python",
   "pygments_lexer": "ipython2",
   "version": "2.7.6"
  }
 },
 "nbformat": 4,
 "nbformat_minor": 5
}
