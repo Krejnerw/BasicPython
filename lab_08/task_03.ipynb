{
 "cells": [
  {
   "cell_type": "markdown",
   "source": [
    "**Zadanie 3**  \n",
    "Napisz kod, który porówna czas wykonania operacji append i append left na obiekcie typu `deque` oraz analogicznie append i insert(0) dla obiektu typu `list`."
   ],
   "metadata": {
    "collapsed": false
   },
   "id": "a8c43e07a7d662c1"
  },
  {
   "cell_type": "code",
   "execution_count": 37,
   "id": "initial_id",
   "metadata": {
    "collapsed": true,
    "ExecuteTime": {
     "end_time": "2024-05-13T17:48:58.874630500Z",
     "start_time": "2024-05-13T17:48:58.868629700Z"
    }
   },
   "outputs": [
    {
     "name": "stdout",
     "output_type": "stream",
     "text": [
      "5.900044925510883e-06\n",
      "5.100038833916187e-06\n",
      "6.200047209858894e-06\n",
      "8.800067007541656e-06\n"
     ]
    }
   ],
   "source": [
    "from timeit import timeit\n",
    "\n",
    "setup = \"\"\"\n",
    "from collections import deque\n",
    "\n",
    "deque_append = deque('Ala ma kota'.split())\n",
    "deque_append_left = deque('Ala ma kota'.split())\n",
    "list_append = 'Ala ma kota'.split()\n",
    "list_insert = 'Ala ma kota'.split()\n",
    "\"\"\"\n",
    "stmt1_1 = \"\"\"\n",
    "deque_append.append('coś')\n",
    "\"\"\"\n",
    "stmt1_2 = \"\"\"\n",
    "deque_append_left.appendleft('coś')\n",
    "\"\"\"\n",
    "\n",
    "stmt2_1 = \"\"\"\n",
    "list_append.append('coś')\n",
    "\"\"\"\n",
    "stmt2_2 = \"\"\"\n",
    "list_insert.insert(0,'coś')\n",
    "\"\"\"\n",
    "\n",
    "print(timeit(stmt1_1, setup, number=100))\n",
    "print(timeit(stmt1_2, setup, number=100))\n",
    "print(timeit(stmt2_1, setup, number=100))\n",
    "print(timeit(stmt2_2, setup, number=100))"
   ]
  }
 ],
 "metadata": {
  "kernelspec": {
   "display_name": "Python 3",
   "language": "python",
   "name": "python3"
  },
  "language_info": {
   "codemirror_mode": {
    "name": "ipython",
    "version": 2
   },
   "file_extension": ".py",
   "mimetype": "text/x-python",
   "name": "python",
   "nbconvert_exporter": "python",
   "pygments_lexer": "ipython2",
   "version": "2.7.6"
  }
 },
 "nbformat": 4,
 "nbformat_minor": 5
}
