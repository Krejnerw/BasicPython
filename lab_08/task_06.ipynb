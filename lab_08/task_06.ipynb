{
 "cells": [
  {
   "cell_type": "markdown",
   "source": [
    "**Zadanie 6**  \n",
    "Zdefiniuj funkcję o nazwie `create_kolo_fortuny(*args)`, która przyjmuje nieokreśloną listę argumentów pozycyjnych. Z tej listy argumentów tworzony jest obiekt typu `Counter`, a funkcja zwraca obiekt typu `deque` z elementami tegoż licznika."
   ],
   "metadata": {
    "collapsed": false
   },
   "id": "f85a58260c6cfa39"
  },
  {
   "cell_type": "code",
   "execution_count": 25,
   "id": "initial_id",
   "metadata": {
    "collapsed": true,
    "ExecuteTime": {
     "end_time": "2024-05-13T18:23:18.234285200Z",
     "start_time": "2024-05-13T18:23:18.226284500Z"
    }
   },
   "outputs": [
    {
     "data": {
      "text/plain": "deque(['apple', 'apple', 'banana', '100', '52', 'None', 'None'])"
     },
     "execution_count": 25,
     "metadata": {},
     "output_type": "execute_result"
    }
   ],
   "source": [
    "from collections import Counter, deque\n",
    "\n",
    "\n",
    "def create_fortune_wheel(*args):\n",
    "    wheel_counter = Counter(args)\n",
    "    return deque(wheel_counter.elements())\n",
    "\n",
    "create_fortune_wheel(\"apple\", \"banana\", \"100\", \"52\",\"None\", \"apple\", \"None\")"
   ]
  }
 ],
 "metadata": {
  "kernelspec": {
   "display_name": "Python 3",
   "language": "python",
   "name": "python3"
  },
  "language_info": {
   "codemirror_mode": {
    "name": "ipython",
    "version": 2
   },
   "file_extension": ".py",
   "mimetype": "text/x-python",
   "name": "python",
   "nbconvert_exporter": "python",
   "pygments_lexer": "ipython2",
   "version": "2.7.6"
  }
 },
 "nbformat": 4,
 "nbformat_minor": 5
}
